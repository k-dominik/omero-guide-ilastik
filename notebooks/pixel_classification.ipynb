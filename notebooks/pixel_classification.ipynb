{
 "cells": [
  {
   "cell_type": "markdown",
   "metadata": {},
   "source": [
    "# Analyze data using ilastik\n",
    "The notebook shows how load images contained in a dataset\n",
    "from OMERO as numpy arrays and analyze them in ilastik.\n",
    "The images are taken from  the paper \"NesSys: a novel method for accurate nuclear segmentation in 3D\" published August 2019 in PLOS Biology: https://doi.org/10.1371/journal.pbio.3000388\n",
    "\n",
    "The images can be viewed online in the [Image Data Resource](https://idr.openmicroscopy.org/webclient/?show=project-801).\n",
    "\n",
    "It assumes that ilastik project is linked to the dataset.\n",
    "The 5D-numpy array is in the order expected by the ilastik project.\n",
    "The order might need to be adjusted depending on the ilastik project."
   ]
  },
  {
   "cell_type": "markdown",
   "metadata": {},
   "source": [
    "### Insert required packages"
   ]
  },
  {
   "cell_type": "code",
   "execution_count": 1,
   "metadata": {},
   "outputs": [],
   "source": [
    "import numpy\n",
    "import os\n",
    "import itertools\n",
    "\n",
    "import tempfile\n",
    "import omero.clients\n",
    "from omero.gateway import BlitzGateway\n",
    "from getpass import getpass\n",
    "\n",
    "from ilastik import app\n",
    "from ilastik.applets.dataSelection.opDataSelection import PreloadedArrayDatasetInfo\n",
    "import vigra\n",
    "import ipywidgets as widgets\n",
    "# package for 3d visualization\n",
    "from itkwidgets import view"
   ]
  },
  {
   "cell_type": "markdown",
   "metadata": {},
   "source": [
    "### Create a connection to an OMERO server"
   ]
  },
  {
   "cell_type": "code",
   "execution_count": 2,
   "metadata": {},
   "outputs": [
    {
     "name": "stdout",
     "output_type": "stream",
     "text": [
      "Username: trainer-1\n",
      "OMERO Password: ········\n",
      "True\n"
     ]
    }
   ],
   "source": [
    "HOST = 'wss://workshop.openmicroscopy.org/omero-ws'\n",
    "conn = BlitzGateway(input(\"Username: \"),\n",
    "                    getpass(\"OMERO Password: \"),\n",
    "                    host=HOST, secure=True)\n",
    "print(conn.connect())\n",
    "conn.c.enableKeepAlive(60)"
   ]
  },
  {
   "cell_type": "markdown",
   "metadata": {},
   "source": [
    "### Enter the dataset ID"
   ]
  },
  {
   "cell_type": "code",
   "execution_count": 3,
   "metadata": {},
   "outputs": [],
   "source": [
    "dataset_id = 6210"
   ]
  },
  {
   "cell_type": "markdown",
   "metadata": {},
   "source": [
    "### Load the ilastik projects linked to the dataset"
   ]
  },
  {
   "cell_type": "code",
   "execution_count": 4,
   "metadata": {},
   "outputs": [],
   "source": [
    "def load_model(dataset_id):\n",
    "    path = tempfile.mkdtemp()\n",
    "    if not os.path.exists(path):\n",
    "        os.makedirs(path)\n",
    "    dataset = conn.getObject(\"Dataset\", dataset_id)\n",
    "    # Go through all the annotations on the Dataset\n",
    "    options = []\n",
    "    for ann in dataset.listAnnotations():\n",
    "        if isinstance(ann, omero.gateway.FileAnnotationWrapper):\n",
    "            name = ann.getFile().getName()\n",
    "            # Select the ilatisk project TODO: use namespace\n",
    "            if name.endswith(\".ilp\"):\n",
    "                file_path = os.path.join(path, name)\n",
    "                options.append((name, file_path))\n",
    "                with open(str(file_path), 'wb') as f:\n",
    "                    for chunk in ann.getFileInChunks():\n",
    "                        f.write(chunk)\n",
    "    return widgets.Dropdown(options=options, disabled=False)"
   ]
  },
  {
   "cell_type": "markdown",
   "metadata": {},
   "source": [
    "### Helper function: load an Image as 5D-numpy array: order TZYXC"
   ]
  },
  {
   "cell_type": "code",
   "execution_count": 5,
   "metadata": {},
   "outputs": [],
   "source": [
    "def load_numpy_array(image):\n",
    "    pixels = image.getPrimaryPixels()\n",
    "    size_z = image.getSizeZ()\n",
    "    size_c = image.getSizeC()\n",
    "    size_t = image.getSizeT()\n",
    "    size_y = image.getSizeY()\n",
    "    size_x = image.getSizeX()\n",
    "    z, t, c = 0, 0, 0  # first plane of the image\n",
    "\n",
    "    zct_list = []\n",
    "    for t in range(size_t):\n",
    "        for c in range(size_c):  # all channels\n",
    "            for z in range(size_z):  # get the Z-stack\n",
    "                zct_list.append((z, c, t))\n",
    "\n",
    "    values = []\n",
    "    # Load all the planes as YX numpy array\n",
    "    planes = pixels.getPlanes(zct_list)\n",
    "    all_planes = numpy.stack(list(planes))\n",
    "    shape = (size_t, size_z, size_y, size_x, size_c)\n",
    "    return numpy.reshape(all_planes, newshape=shape)\n",
    "\n"
   ]
  },
  {
   "cell_type": "code",
   "execution_count": 6,
   "metadata": {},
   "outputs": [],
   "source": [
    "def plane_gen():\n",
    "    \"\"\"\n",
    "    Set up a generator of 2D numpy arrays.\n",
    "\n",
    "    The createImage method below expects planes in the order specified here\n",
    "    (for z.. for c.. for t..)\n",
    "\n",
    "    \"\"\"\n",
    "\n",
    "    size_z = data.shape[0]-1\n",
    "    for z in range(data.shape[0]):  # all Z sections data.shape[0]\n",
    "        print('z: %s/%s' % (z, size_z))\n",
    "        for c in range(data.shape[1]):  # all channels\n",
    "            for t in range(data.shape[2]):  # all time-points\n",
    "                yield data[z][c][t]"
   ]
  },
  {
   "cell_type": "markdown",
   "metadata": {},
   "source": [
    "### Select the ilastik project to use."
   ]
  },
  {
   "cell_type": "code",
   "execution_count": 7,
   "metadata": {},
   "outputs": [
    {
     "data": {
      "application/vnd.jupyter.widget-view+json": {
       "model_id": "8685a2bfb6c8488481863b2c1e7c3afe",
       "version_major": 2,
       "version_minor": 0
      },
      "text/plain": [
       "Dropdown(options=(('pixel-class-wednesday.ilp', '/var/folders/74/13j9m56j0l7cxdczjrykzqt40000gn/T/tmpwd5p75ik/…"
      ]
     },
     "metadata": {},
     "output_type": "display_data"
    }
   ],
   "source": [
    "model_selection = load_model(dataset_id)\n",
    "display(model_selection)"
   ]
  },
  {
   "cell_type": "markdown",
   "metadata": {},
   "source": [
    "### Load each image as an 5D-numpy array and analyze.\n",
    "Save the probabilities as an OMERO image"
   ]
  },
  {
   "cell_type": "code",
   "execution_count": 8,
   "metadata": {},
   "outputs": [
    {
     "name": "stdout",
     "output_type": "stream",
     "text": [
      "INFO ilastik.app: Using tiktorch executable: ['/Users/jmarie/opt/anaconda3/envs/imaging_course_ilastik/bin/python', '-m', 'tiktorch.server']\n"
     ]
    },
    {
     "name": "stderr",
     "output_type": "stream",
     "text": [
      "INFO:ilastik.app:Using tiktorch executable: ['/Users/jmarie/opt/anaconda3/envs/imaging_course_ilastik/bin/python', '-m', 'tiktorch.server']\n"
     ]
    },
    {
     "name": "stdout",
     "output_type": "stream",
     "text": [
      "INFO ilastik.app: config file location: <none>\n"
     ]
    },
    {
     "name": "stderr",
     "output_type": "stream",
     "text": [
      "INFO:ilastik.app:config file location: <none>\n"
     ]
    },
    {
     "name": "stdout",
     "output_type": "stream",
     "text": [
      "INFO ilastik.app: Starting ilastik from /Users/jmarie/opt/anaconda3/envs/imaging_course_ilastik/lib/python3.9\n"
     ]
    },
    {
     "name": "stderr",
     "output_type": "stream",
     "text": [
      "INFO:ilastik.app:Starting ilastik from /Users/jmarie/opt/anaconda3/envs/imaging_course_ilastik/lib/python3.9\n"
     ]
    },
    {
     "name": "stdout",
     "output_type": "stream",
     "text": [
      "Starting ilastik from /Users/jmarie/opt/anaconda3/envs/imaging_course_ilastik/lib/python3.9\n",
      "INFO ilastik.app: Resetting lazyflow thread pool with 2 threads.\n"
     ]
    },
    {
     "name": "stderr",
     "output_type": "stream",
     "text": [
      "INFO:ilastik.app:Resetting lazyflow thread pool with 2 threads.\n"
     ]
    },
    {
     "name": "stdout",
     "output_type": "stream",
     "text": [
      "INFO ilastik.app: Configuring lazyflow RAM limit to 2.0GiB\n"
     ]
    },
    {
     "name": "stderr",
     "output_type": "stream",
     "text": [
      "INFO:ilastik.app:Configuring lazyflow RAM limit to 2.0GiB\n"
     ]
    },
    {
     "name": "stdout",
     "output_type": "stream",
     "text": [
      "INFO lazyflow.utility.memory: Available memory set to 2.0GiB\n"
     ]
    },
    {
     "name": "stderr",
     "output_type": "stream",
     "text": [
      "INFO:lazyflow.utility.memory:Available memory set to 2.0GiB\n",
      "WARNING 2024-10-29 16:39:32,372 opConservationTracking 68618 8671434240 Could not find any ILP solver\n",
      "WARNING:ilastik.applets.tracking.conservation.opConservationTracking:Could not find any ILP solver\n",
      "WARNING 2024-10-29 16:39:32,384 opStructuredTracking 68618 8671434240 Could not find any ILP solver\n",
      "WARNING:ilastik.applets.tracking.structured.opStructuredTracking:Could not find any ILP solver\n",
      "WARNING 2024-10-29 16:39:32,386 structuredTrackingWorkflow 68618 8671434240 Could not find any learning solver. Tracking will use flow-based solver (DPCT). Learning for tracking will be disabled!\n",
      "WARNING:ilastik.workflows.tracking.structured.structuredTrackingWorkflow:Could not find any learning solver. Tracking will use flow-based solver (DPCT). Learning for tracking will be disabled!\n"
     ]
    },
    {
     "name": "stdout",
     "output_type": "stream",
     "text": [
      "INFO ilastik.shell.projectManager: Opening Project: /var/folders/74/13j9m56j0l7cxdczjrykzqt40000gn/T/tmpwd5p75ik/pixel-class-wednesday.ilp\n"
     ]
    },
    {
     "name": "stderr",
     "output_type": "stream",
     "text": [
      "INFO:ilastik.shell.projectManager:Opening Project: /var/folders/74/13j9m56j0l7cxdczjrykzqt40000gn/T/tmpwd5p75ik/pixel-class-wednesday.ilp\n",
      "WARNING slotSerializer.py:(822): UserWarning: UserWarning('This project file uses an old or unsupported classifier-factory storage format. The classifier-factory will be stored in the new format when you save your project.')\n"
     ]
    },
    {
     "name": "stdout",
     "output_type": "stream",
     "text": [
      "INFO omero.gateway: Registered 756329e7-0b23-4959-be54-f39eb26a5302/a20ee428-8cd7-41a7-aaef-74de433bcdc3omero.api.RawPixelsStore -t -e 1.1:tcp -h 172.17.0.1 -p 46687 -t 60000:tcp -h 134.36.5.185 -p 46687 -t 60000\n"
     ]
    },
    {
     "name": "stderr",
     "output_type": "stream",
     "text": [
      "INFO:omero.gateway:Registered 756329e7-0b23-4959-be54-f39eb26a5302/a20ee428-8cd7-41a7-aaef-74de433bcdc3omero.api.RawPixelsStore -t -e 1.1:tcp -h 172.17.0.1 -p 46687 -t 60000:tcp -h 134.36.5.185 -p 46687 -t 60000\n"
     ]
    },
    {
     "name": "stdout",
     "output_type": "stream",
     "text": [
      "INFO omero.gateway: Unregistered 756329e7-0b23-4959-be54-f39eb26a5302/a20ee428-8cd7-41a7-aaef-74de433bcdc3omero.api.RawPixelsStore -t -e 1.1:tcp -h 172.17.0.1 -p 46687 -t 60000:tcp -h 134.36.5.185 -p 46687 -t 60000\n"
     ]
    },
    {
     "name": "stderr",
     "output_type": "stream",
     "text": [
      "INFO:omero.gateway:Unregistered 756329e7-0b23-4959-be54-f39eb26a5302/a20ee428-8cd7-41a7-aaef-74de433bcdc3omero.api.RawPixelsStore -t -e 1.1:tcp -h 172.17.0.1 -p 46687 -t 60000:tcp -h 134.36.5.185 -p 46687 -t 60000\n"
     ]
    },
    {
     "name": "stdout",
     "output_type": "stream",
     "text": [
      "running ilastik using /var/folders/74/13j9m56j0l7cxdczjrykzqt40000gn/T/tmpwd5p75ik/pixel-class-wednesday.ilp and B1_C1.tif\n",
      "DEBUG lazyflow.operators.classifierOperators.OpBaseClassifierPredict: classifier changed, setting dirty\n"
     ]
    },
    {
     "name": "stderr",
     "output_type": "stream",
     "text": [
      "DEBUG:lazyflow.operators.classifierOperators.OpBaseClassifierPredict:classifier changed, setting dirty\n"
     ]
    },
    {
     "name": "stdout",
     "output_type": "stream",
     "text": [
      "DEBUG lazyflow.operators.classifierOperators.OpBaseClassifierPredict: classifier changed, setting dirty\n"
     ]
    },
    {
     "name": "stderr",
     "output_type": "stream",
     "text": [
      "DEBUG:lazyflow.operators.classifierOperators.OpBaseClassifierPredict:classifier changed, setting dirty\n"
     ]
    },
    {
     "name": "stdout",
     "output_type": "stream",
     "text": [
      "DEBUG lazyflow.operators.classifierOperators.OpBaseClassifierPredict: classifier changed, setting dirty\n"
     ]
    },
    {
     "name": "stderr",
     "output_type": "stream",
     "text": [
      "DEBUG:lazyflow.operators.classifierOperators.OpBaseClassifierPredict:classifier changed, setting dirty\n"
     ]
    },
    {
     "name": "stdout",
     "output_type": "stream",
     "text": [
      "DEBUG lazyflow.operators.classifierOperators.OpBaseClassifierPredict: classifier changed, setting dirty\n"
     ]
    },
    {
     "name": "stderr",
     "output_type": "stream",
     "text": [
      "DEBUG:lazyflow.operators.classifierOperators.OpBaseClassifierPredict:classifier changed, setting dirty\n"
     ]
    },
    {
     "name": "stdout",
     "output_type": "stream",
     "text": [
      "INFO ilastik.applets.batchProcessing.batchProcessingApplet: Exporting to in-memory array.\n"
     ]
    },
    {
     "name": "stderr",
     "output_type": "stream",
     "text": [
      "INFO:ilastik.applets.batchProcessing.batchProcessingApplet:Exporting to in-memory array.\n"
     ]
    },
    {
     "name": "stdout",
     "output_type": "stream",
     "text": [
      "INFO lazyflow.utility.bigRequestStreamer: Estimated RAM usage per pixel is 504.0B * safety factor (2.0)\n"
     ]
    },
    {
     "name": "stderr",
     "output_type": "stream",
     "text": [
      "INFO:lazyflow.utility.bigRequestStreamer:Estimated RAM usage per pixel is 504.0B * safety factor (2.0)\n"
     ]
    },
    {
     "name": "stdout",
     "output_type": "stream",
     "text": [
      "INFO lazyflow.utility.bigRequestStreamer: determining blockshape assuming available_ram is 1.5GiB, split between 2 threads\n"
     ]
    },
    {
     "name": "stderr",
     "output_type": "stream",
     "text": [
      "INFO:lazyflow.utility.bigRequestStreamer:determining blockshape assuming available_ram is 1.5GiB, split between 2 threads\n"
     ]
    },
    {
     "name": "stdout",
     "output_type": "stream",
     "text": [
      "INFO lazyflow.utility.bigRequestStreamer: Chose blockshape: (1, 92, 92, 92, 2)\n"
     ]
    },
    {
     "name": "stderr",
     "output_type": "stream",
     "text": [
      "INFO:lazyflow.utility.bigRequestStreamer:Chose blockshape: (1, 92, 92, 92, 2)\n"
     ]
    },
    {
     "name": "stdout",
     "output_type": "stream",
     "text": [
      "INFO lazyflow.utility.bigRequestStreamer: Estimated RAM usage per block is 748.6MiB\n"
     ]
    },
    {
     "name": "stderr",
     "output_type": "stream",
     "text": [
      "INFO:lazyflow.utility.bigRequestStreamer:Estimated RAM usage per block is 748.6MiB\n"
     ]
    },
    {
     "name": "stdout",
     "output_type": "stream",
     "text": [
      "DEBUG lazyflow.operators.classifierOperators: Features took 3.384174 seconds. Prediction took 1.490277 seconds. Subregion: start '[0, 0, 0, 0]' stop '[92, 92, 92, 2]'\n"
     ]
    },
    {
     "name": "stderr",
     "output_type": "stream",
     "text": [
      "DEBUG:lazyflow.operators.classifierOperators:Features took 3.384174 seconds. Prediction took 1.490277 seconds. Subregion: start '[0, 0, 0, 0]' stop '[92, 92, 92, 2]'\n"
     ]
    },
    {
     "name": "stdout",
     "output_type": "stream",
     "text": [
      "DEBUG lazyflow.operators.classifierOperators: Features took 6.22563 seconds. Prediction took 1.599049 seconds. Subregion: start '[0, 0, 92, 0]' stop '[92, 92, 184, 2]'\n"
     ]
    },
    {
     "name": "stderr",
     "output_type": "stream",
     "text": [
      "DEBUG:lazyflow.operators.classifierOperators:Features took 6.22563 seconds. Prediction took 1.599049 seconds. Subregion: start '[0, 0, 92, 0]' stop '[92, 92, 184, 2]'\n"
     ]
    },
    {
     "name": "stdout",
     "output_type": "stream",
     "text": [
      "DEBUG lazyflow.operators.classifierOperators: Features took 4.548138 seconds. Prediction took 1.285437 seconds. Subregion: start '[0, 0, 184, 0]' stop '[92, 92, 271, 2]'\n"
     ]
    },
    {
     "name": "stderr",
     "output_type": "stream",
     "text": [
      "DEBUG:lazyflow.operators.classifierOperators:Features took 4.548138 seconds. Prediction took 1.285437 seconds. Subregion: start '[0, 0, 184, 0]' stop '[92, 92, 271, 2]'\n"
     ]
    },
    {
     "name": "stdout",
     "output_type": "stream",
     "text": [
      "DEBUG lazyflow.operators.classifierOperators: Features took 5.052546 seconds. Prediction took 1.316723 seconds. Subregion: start '[0, 92, 0, 0]' stop '[92, 184, 92, 2]'\n"
     ]
    },
    {
     "name": "stderr",
     "output_type": "stream",
     "text": [
      "DEBUG:lazyflow.operators.classifierOperators:Features took 5.052546 seconds. Prediction took 1.316723 seconds. Subregion: start '[0, 92, 0, 0]' stop '[92, 184, 92, 2]'\n"
     ]
    },
    {
     "name": "stdout",
     "output_type": "stream",
     "text": [
      "DEBUG lazyflow.operators.classifierOperators: Features took 5.520484 seconds. Prediction took 1.483236 seconds. Subregion: start '[0, 92, 92, 0]' stop '[92, 184, 184, 2]'\n"
     ]
    },
    {
     "name": "stderr",
     "output_type": "stream",
     "text": [
      "DEBUG:lazyflow.operators.classifierOperators:Features took 5.520484 seconds. Prediction took 1.483236 seconds. Subregion: start '[0, 92, 92, 0]' stop '[92, 184, 184, 2]'\n"
     ]
    },
    {
     "name": "stdout",
     "output_type": "stream",
     "text": [
      "DEBUG lazyflow.operators.classifierOperators: Features took 4.832853 seconds. Prediction took 1.419745 seconds. Subregion: start '[0, 92, 184, 0]' stop '[92, 184, 271, 2]'\n"
     ]
    },
    {
     "name": "stderr",
     "output_type": "stream",
     "text": [
      "DEBUG:lazyflow.operators.classifierOperators:Features took 4.832853 seconds. Prediction took 1.419745 seconds. Subregion: start '[0, 92, 184, 0]' stop '[92, 184, 271, 2]'\n"
     ]
    },
    {
     "name": "stdout",
     "output_type": "stream",
     "text": [
      "DEBUG lazyflow.operators.classifierOperators: Features took 4.578332 seconds. Prediction took 1.295374 seconds. Subregion: start '[0, 184, 0, 0]' stop '[92, 275, 92, 2]'\n"
     ]
    },
    {
     "name": "stderr",
     "output_type": "stream",
     "text": [
      "DEBUG:lazyflow.operators.classifierOperators:Features took 4.578332 seconds. Prediction took 1.295374 seconds. Subregion: start '[0, 184, 0, 0]' stop '[92, 275, 92, 2]'\n"
     ]
    },
    {
     "name": "stdout",
     "output_type": "stream",
     "text": [
      "DEBUG lazyflow.operators.classifierOperators: Features took 4.798967 seconds. Prediction took 1.472685 seconds. Subregion: start '[0, 184, 92, 0]' stop '[92, 275, 184, 2]'\n"
     ]
    },
    {
     "name": "stderr",
     "output_type": "stream",
     "text": [
      "DEBUG:lazyflow.operators.classifierOperators:Features took 4.798967 seconds. Prediction took 1.472685 seconds. Subregion: start '[0, 184, 92, 0]' stop '[92, 275, 184, 2]'\n"
     ]
    },
    {
     "name": "stdout",
     "output_type": "stream",
     "text": [
      "DEBUG lazyflow.operators.classifierOperators: Features took 4.755117 seconds. Prediction took 1.271501 seconds. Subregion: start '[0, 184, 184, 0]' stop '[92, 275, 271, 2]'\n"
     ]
    },
    {
     "name": "stderr",
     "output_type": "stream",
     "text": [
      "DEBUG:lazyflow.operators.classifierOperators:Features took 4.755117 seconds. Prediction took 1.271501 seconds. Subregion: start '[0, 184, 184, 0]' stop '[92, 275, 271, 2]'\n"
     ]
    },
    {
     "name": "stdout",
     "output_type": "stream",
     "text": [
      "DEBUG lazyflow.operators.classifierOperators: Features took 4.930165 seconds. Prediction took 1.353878 seconds. Subregion: start '[92, 0, 0, 0]' stop '[184, 92, 92, 2]'\n"
     ]
    },
    {
     "name": "stderr",
     "output_type": "stream",
     "text": [
      "DEBUG:lazyflow.operators.classifierOperators:Features took 4.930165 seconds. Prediction took 1.353878 seconds. Subregion: start '[92, 0, 0, 0]' stop '[184, 92, 92, 2]'\n"
     ]
    },
    {
     "name": "stdout",
     "output_type": "stream",
     "text": [
      "DEBUG lazyflow.operators.classifierOperators: Features took 5.135986 seconds. Prediction took 1.514548 seconds. Subregion: start '[92, 0, 92, 0]' stop '[184, 92, 184, 2]'\n"
     ]
    },
    {
     "name": "stderr",
     "output_type": "stream",
     "text": [
      "DEBUG:lazyflow.operators.classifierOperators:Features took 5.135986 seconds. Prediction took 1.514548 seconds. Subregion: start '[92, 0, 92, 0]' stop '[184, 92, 184, 2]'\n"
     ]
    },
    {
     "name": "stdout",
     "output_type": "stream",
     "text": [
      "DEBUG lazyflow.operators.classifierOperators: Features took 5.169759 seconds. Prediction took 1.240944 seconds. Subregion: start '[92, 0, 184, 0]' stop '[184, 92, 271, 2]'\n"
     ]
    },
    {
     "name": "stderr",
     "output_type": "stream",
     "text": [
      "DEBUG:lazyflow.operators.classifierOperators:Features took 5.169759 seconds. Prediction took 1.240944 seconds. Subregion: start '[92, 0, 184, 0]' stop '[184, 92, 271, 2]'\n"
     ]
    },
    {
     "name": "stdout",
     "output_type": "stream",
     "text": [
      "DEBUG lazyflow.operators.classifierOperators: Features took 5.235849 seconds. Prediction took 1.3012139999999999 seconds. Subregion: start '[92, 92, 0, 0]' stop '[184, 184, 92, 2]'\n"
     ]
    },
    {
     "name": "stderr",
     "output_type": "stream",
     "text": [
      "DEBUG:lazyflow.operators.classifierOperators:Features took 5.235849 seconds. Prediction took 1.3012139999999999 seconds. Subregion: start '[92, 92, 0, 0]' stop '[184, 184, 92, 2]'\n"
     ]
    },
    {
     "name": "stdout",
     "output_type": "stream",
     "text": [
      "DEBUG lazyflow.operators.classifierOperators: Features took 5.780827 seconds. Prediction took 1.549698 seconds. Subregion: start '[92, 92, 92, 0]' stop '[184, 184, 184, 2]'\n"
     ]
    },
    {
     "name": "stderr",
     "output_type": "stream",
     "text": [
      "DEBUG:lazyflow.operators.classifierOperators:Features took 5.780827 seconds. Prediction took 1.549698 seconds. Subregion: start '[92, 92, 92, 0]' stop '[184, 184, 184, 2]'\n"
     ]
    },
    {
     "name": "stdout",
     "output_type": "stream",
     "text": [
      "DEBUG lazyflow.operators.classifierOperators: Features took 5.301641 seconds. Prediction took 1.246938 seconds. Subregion: start '[92, 92, 184, 0]' stop '[184, 184, 271, 2]'\n"
     ]
    },
    {
     "name": "stderr",
     "output_type": "stream",
     "text": [
      "DEBUG:lazyflow.operators.classifierOperators:Features took 5.301641 seconds. Prediction took 1.246938 seconds. Subregion: start '[92, 92, 184, 0]' stop '[184, 184, 271, 2]'\n"
     ]
    },
    {
     "name": "stdout",
     "output_type": "stream",
     "text": [
      "DEBUG lazyflow.operators.classifierOperators: Features took 4.939994 seconds. Prediction took 1.724534 seconds. Subregion: start '[92, 184, 0, 0]' stop '[184, 275, 92, 2]'\n"
     ]
    },
    {
     "name": "stderr",
     "output_type": "stream",
     "text": [
      "DEBUG:lazyflow.operators.classifierOperators:Features took 4.939994 seconds. Prediction took 1.724534 seconds. Subregion: start '[92, 184, 0, 0]' stop '[184, 275, 92, 2]'\n"
     ]
    },
    {
     "name": "stdout",
     "output_type": "stream",
     "text": [
      "DEBUG lazyflow.operators.classifierOperators: Features took 5.245325 seconds. Prediction took 1.469538 seconds. Subregion: start '[92, 184, 92, 0]' stop '[184, 275, 184, 2]'\n"
     ]
    },
    {
     "name": "stderr",
     "output_type": "stream",
     "text": [
      "DEBUG:lazyflow.operators.classifierOperators:Features took 5.245325 seconds. Prediction took 1.469538 seconds. Subregion: start '[92, 184, 92, 0]' stop '[184, 275, 184, 2]'\n"
     ]
    },
    {
     "name": "stdout",
     "output_type": "stream",
     "text": [
      "DEBUG lazyflow.operators.classifierOperators: Features took 4.520828 seconds. Prediction took 1.303634 seconds. Subregion: start '[92, 184, 184, 0]' stop '[184, 275, 271, 2]'\n"
     ]
    },
    {
     "name": "stderr",
     "output_type": "stream",
     "text": [
      "DEBUG:lazyflow.operators.classifierOperators:Features took 4.520828 seconds. Prediction took 1.303634 seconds. Subregion: start '[92, 184, 184, 0]' stop '[184, 275, 271, 2]'\n"
     ]
    },
    {
     "name": "stdout",
     "output_type": "stream",
     "text": [
      "DEBUG lazyflow.operators.classifierOperators: Features took 3.737498 seconds. Prediction took 0.749228 seconds. Subregion: start '[184, 0, 0, 0]' stop '[236, 92, 92, 2]'\n"
     ]
    },
    {
     "name": "stderr",
     "output_type": "stream",
     "text": [
      "DEBUG:lazyflow.operators.classifierOperators:Features took 3.737498 seconds. Prediction took 0.749228 seconds. Subregion: start '[184, 0, 0, 0]' stop '[236, 92, 92, 2]'\n"
     ]
    },
    {
     "name": "stdout",
     "output_type": "stream",
     "text": [
      "DEBUG lazyflow.operators.classifierOperators: Features took 2.840301 seconds. Prediction took 0.859879 seconds. Subregion: start '[184, 0, 92, 0]' stop '[236, 92, 184, 2]'\n"
     ]
    },
    {
     "name": "stderr",
     "output_type": "stream",
     "text": [
      "DEBUG:lazyflow.operators.classifierOperators:Features took 2.840301 seconds. Prediction took 0.859879 seconds. Subregion: start '[184, 0, 92, 0]' stop '[236, 92, 184, 2]'\n"
     ]
    },
    {
     "name": "stdout",
     "output_type": "stream",
     "text": [
      "DEBUG lazyflow.operators.classifierOperators: Features took 3.076089 seconds. Prediction took 0.729704 seconds. Subregion: start '[184, 0, 184, 0]' stop '[236, 92, 271, 2]'\n"
     ]
    },
    {
     "name": "stderr",
     "output_type": "stream",
     "text": [
      "DEBUG:lazyflow.operators.classifierOperators:Features took 3.076089 seconds. Prediction took 0.729704 seconds. Subregion: start '[184, 0, 184, 0]' stop '[236, 92, 271, 2]'\n"
     ]
    },
    {
     "name": "stdout",
     "output_type": "stream",
     "text": [
      "DEBUG lazyflow.operators.classifierOperators: Features took 2.918553 seconds. Prediction took 0.722122 seconds. Subregion: start '[184, 92, 0, 0]' stop '[236, 184, 92, 2]'\n"
     ]
    },
    {
     "name": "stderr",
     "output_type": "stream",
     "text": [
      "DEBUG:lazyflow.operators.classifierOperators:Features took 2.918553 seconds. Prediction took 0.722122 seconds. Subregion: start '[184, 92, 0, 0]' stop '[236, 184, 92, 2]'\n"
     ]
    },
    {
     "name": "stdout",
     "output_type": "stream",
     "text": [
      "DEBUG lazyflow.operators.classifierOperators: Features took 3.380606 seconds. Prediction took 0.831502 seconds. Subregion: start '[184, 92, 92, 0]' stop '[236, 184, 184, 2]'\n"
     ]
    },
    {
     "name": "stderr",
     "output_type": "stream",
     "text": [
      "DEBUG:lazyflow.operators.classifierOperators:Features took 3.380606 seconds. Prediction took 0.831502 seconds. Subregion: start '[184, 92, 92, 0]' stop '[236, 184, 184, 2]'\n"
     ]
    },
    {
     "name": "stdout",
     "output_type": "stream",
     "text": [
      "DEBUG lazyflow.operators.classifierOperators: Features took 3.1773730000000002 seconds. Prediction took 0.693487 seconds. Subregion: start '[184, 92, 184, 0]' stop '[236, 184, 271, 2]'\n"
     ]
    },
    {
     "name": "stderr",
     "output_type": "stream",
     "text": [
      "DEBUG:lazyflow.operators.classifierOperators:Features took 3.1773730000000002 seconds. Prediction took 0.693487 seconds. Subregion: start '[184, 92, 184, 0]' stop '[236, 184, 271, 2]'\n"
     ]
    },
    {
     "name": "stdout",
     "output_type": "stream",
     "text": [
      "DEBUG lazyflow.operators.classifierOperators: Features took 2.84269 seconds. Prediction took 0.737468 seconds. Subregion: start '[184, 184, 0, 0]' stop '[236, 275, 92, 2]'\n"
     ]
    },
    {
     "name": "stderr",
     "output_type": "stream",
     "text": [
      "DEBUG:lazyflow.operators.classifierOperators:Features took 2.84269 seconds. Prediction took 0.737468 seconds. Subregion: start '[184, 184, 0, 0]' stop '[236, 275, 92, 2]'\n"
     ]
    },
    {
     "name": "stdout",
     "output_type": "stream",
     "text": [
      "DEBUG lazyflow.operators.classifierOperators: Features took 3.059215 seconds. Prediction took 56.739709 seconds. Subregion: start '[184, 184, 92, 0]' stop '[236, 275, 184, 2]'\n"
     ]
    },
    {
     "name": "stderr",
     "output_type": "stream",
     "text": [
      "DEBUG:lazyflow.operators.classifierOperators:Features took 3.059215 seconds. Prediction took 56.739709 seconds. Subregion: start '[184, 184, 92, 0]' stop '[236, 275, 184, 2]'\n"
     ]
    },
    {
     "name": "stdout",
     "output_type": "stream",
     "text": [
      "DEBUG lazyflow.operators.classifierOperators: Features took 58.667131 seconds. Prediction took 0.68655 seconds. Subregion: start '[184, 184, 184, 0]' stop '[236, 275, 271, 2]'\n"
     ]
    },
    {
     "name": "stderr",
     "output_type": "stream",
     "text": [
      "DEBUG:lazyflow.operators.classifierOperators:Features took 58.667131 seconds. Prediction took 0.68655 seconds. Subregion: start '[184, 184, 184, 0]' stop '[236, 275, 271, 2]'\n"
     ]
    },
    {
     "name": "stdout",
     "output_type": "stream",
     "text": [
      "Saving Probabilities as an Image in OMERO\n",
      "z: 0/235\n",
      "z: 1/235\n",
      "z: 2/235\n",
      "z: 3/235\n",
      "z: 4/235\n",
      "z: 5/235\n",
      "z: 6/235\n",
      "z: 7/235\n",
      "z: 8/235\n",
      "z: 9/235\n",
      "z: 10/235\n",
      "z: 11/235\n",
      "z: 12/235\n",
      "z: 13/235\n",
      "z: 14/235\n",
      "z: 15/235\n",
      "z: 16/235\n",
      "z: 17/235\n",
      "z: 18/235\n",
      "z: 19/235\n",
      "z: 20/235\n",
      "z: 21/235\n",
      "z: 22/235\n",
      "z: 23/235\n",
      "z: 24/235\n",
      "z: 25/235\n",
      "z: 26/235\n",
      "z: 27/235\n",
      "z: 28/235\n",
      "z: 29/235\n",
      "z: 30/235\n",
      "z: 31/235\n",
      "z: 32/235\n",
      "z: 33/235\n",
      "z: 34/235\n",
      "z: 35/235\n",
      "z: 36/235\n",
      "z: 37/235\n",
      "z: 38/235\n",
      "z: 39/235\n",
      "z: 40/235\n",
      "z: 41/235\n",
      "z: 42/235\n",
      "z: 43/235\n",
      "z: 44/235\n",
      "z: 45/235\n",
      "z: 46/235\n",
      "z: 47/235\n",
      "z: 48/235\n",
      "z: 49/235\n",
      "z: 50/235\n",
      "z: 51/235\n",
      "z: 52/235\n",
      "z: 53/235\n",
      "z: 54/235\n",
      "z: 55/235\n",
      "z: 56/235\n",
      "z: 57/235\n",
      "z: 58/235\n",
      "z: 59/235\n",
      "z: 60/235\n",
      "z: 61/235\n",
      "z: 62/235\n",
      "z: 63/235\n",
      "z: 64/235\n",
      "z: 65/235\n",
      "z: 66/235\n",
      "z: 67/235\n",
      "z: 68/235\n",
      "z: 69/235\n",
      "z: 70/235\n",
      "z: 71/235\n",
      "z: 72/235\n",
      "z: 73/235\n",
      "z: 74/235\n",
      "z: 75/235\n",
      "z: 76/235\n",
      "z: 77/235\n",
      "z: 78/235\n",
      "z: 79/235\n",
      "z: 80/235\n",
      "z: 81/235\n",
      "z: 82/235\n",
      "z: 83/235\n",
      "z: 84/235\n",
      "z: 85/235\n",
      "z: 86/235\n",
      "z: 87/235\n",
      "z: 88/235\n",
      "z: 89/235\n",
      "z: 90/235\n",
      "z: 91/235\n",
      "z: 92/235\n",
      "z: 93/235\n",
      "z: 94/235\n",
      "z: 95/235\n",
      "z: 96/235\n",
      "z: 97/235\n",
      "z: 98/235\n",
      "z: 99/235\n",
      "z: 100/235\n",
      "z: 101/235\n",
      "z: 102/235\n",
      "z: 103/235\n",
      "z: 104/235\n",
      "z: 105/235\n",
      "z: 106/235\n",
      "z: 107/235\n",
      "z: 108/235\n",
      "z: 109/235\n",
      "z: 110/235\n",
      "z: 111/235\n",
      "z: 112/235\n",
      "z: 113/235\n",
      "z: 114/235\n",
      "z: 115/235\n",
      "z: 116/235\n",
      "z: 117/235\n",
      "z: 118/235\n",
      "z: 119/235\n",
      "z: 120/235\n",
      "z: 121/235\n",
      "z: 122/235\n",
      "z: 123/235\n",
      "z: 124/235\n",
      "z: 125/235\n",
      "z: 126/235\n",
      "z: 127/235\n",
      "z: 128/235\n",
      "z: 129/235\n",
      "z: 130/235\n",
      "z: 131/235\n",
      "z: 132/235\n",
      "z: 133/235\n",
      "z: 134/235\n",
      "z: 135/235\n",
      "z: 136/235\n",
      "z: 137/235\n",
      "z: 138/235\n",
      "z: 139/235\n",
      "z: 140/235\n",
      "z: 141/235\n",
      "z: 142/235\n",
      "z: 143/235\n",
      "z: 144/235\n",
      "z: 145/235\n",
      "z: 146/235\n",
      "z: 147/235\n",
      "z: 148/235\n",
      "z: 149/235\n",
      "z: 150/235\n",
      "z: 151/235\n",
      "z: 152/235\n",
      "z: 153/235\n",
      "z: 154/235\n",
      "z: 155/235\n",
      "z: 156/235\n",
      "z: 157/235\n",
      "z: 158/235\n",
      "z: 159/235\n",
      "z: 160/235\n",
      "z: 161/235\n",
      "z: 162/235\n",
      "z: 163/235\n",
      "z: 164/235\n",
      "z: 165/235\n",
      "z: 166/235\n",
      "z: 167/235\n",
      "z: 168/235\n",
      "z: 169/235\n",
      "z: 170/235\n",
      "z: 171/235\n",
      "z: 172/235\n",
      "z: 173/235\n",
      "z: 174/235\n",
      "z: 175/235\n",
      "z: 176/235\n",
      "z: 177/235\n",
      "z: 178/235\n",
      "z: 179/235\n",
      "z: 180/235\n",
      "z: 181/235\n",
      "z: 182/235\n",
      "z: 183/235\n",
      "z: 184/235\n",
      "z: 185/235\n",
      "z: 186/235\n",
      "z: 187/235\n",
      "z: 188/235\n",
      "z: 189/235\n",
      "z: 190/235\n",
      "z: 191/235\n",
      "z: 192/235\n",
      "z: 193/235\n",
      "z: 194/235\n",
      "z: 195/235\n",
      "z: 196/235\n",
      "z: 197/235\n",
      "z: 198/235\n",
      "z: 199/235\n",
      "z: 200/235\n",
      "z: 201/235\n",
      "z: 202/235\n",
      "z: 203/235\n",
      "z: 204/235\n",
      "z: 205/235\n",
      "z: 206/235\n",
      "z: 207/235\n",
      "z: 208/235\n",
      "z: 209/235\n",
      "z: 210/235\n",
      "z: 211/235\n",
      "z: 212/235\n",
      "z: 213/235\n",
      "z: 214/235\n",
      "z: 215/235\n",
      "z: 216/235\n",
      "z: 217/235\n",
      "z: 218/235\n",
      "z: 219/235\n",
      "z: 220/235\n",
      "z: 221/235\n",
      "z: 222/235\n",
      "z: 223/235\n",
      "z: 224/235\n",
      "z: 225/235\n",
      "z: 226/235\n",
      "z: 227/235\n",
      "z: 228/235\n",
      "z: 229/235\n",
      "z: 230/235\n",
      "z: 231/235\n",
      "z: 232/235\n",
      "z: 233/235\n",
      "z: 234/235\n",
      "z: 235/235\n",
      "INFO omero.gateway: Registered 756329e7-0b23-4959-be54-f39eb26a5302/03f6307e-f0af-4634-ad13-0bacecc0dc3aomero.api.RawPixelsStore -t -e 1.1:tcp -h 172.17.0.1 -p 46687 -t 60000:tcp -h 134.36.5.185 -p 46687 -t 60000\n"
     ]
    },
    {
     "name": "stderr",
     "output_type": "stream",
     "text": [
      "INFO:omero.gateway:Registered 756329e7-0b23-4959-be54-f39eb26a5302/03f6307e-f0af-4634-ad13-0bacecc0dc3aomero.api.RawPixelsStore -t -e 1.1:tcp -h 172.17.0.1 -p 46687 -t 60000:tcp -h 134.36.5.185 -p 46687 -t 60000\n"
     ]
    },
    {
     "name": "stdout",
     "output_type": "stream",
     "text": [
      "INFO omero.gateway: Unregistered 756329e7-0b23-4959-be54-f39eb26a5302/03f6307e-f0af-4634-ad13-0bacecc0dc3aomero.api.RawPixelsStore -t -e 1.1:tcp -h 172.17.0.1 -p 46687 -t 60000:tcp -h 134.36.5.185 -p 46687 -t 60000\n"
     ]
    },
    {
     "name": "stderr",
     "output_type": "stream",
     "text": [
      "INFO:omero.gateway:Unregistered 756329e7-0b23-4959-be54-f39eb26a5302/03f6307e-f0af-4634-ad13-0bacecc0dc3aomero.api.RawPixelsStore -t -e 1.1:tcp -h 172.17.0.1 -p 46687 -t 60000:tcp -h 134.36.5.185 -p 46687 -t 60000\n"
     ]
    },
    {
     "name": "stdout",
     "output_type": "stream",
     "text": [
      "running ilastik using /var/folders/74/13j9m56j0l7cxdczjrykzqt40000gn/T/tmpwd5p75ik/pixel-class-wednesday.ilp and B1_C2.tif\n",
      "DEBUG lazyflow.operators.classifierOperators.OpBaseClassifierPredict: classifier changed, setting dirty\n"
     ]
    },
    {
     "name": "stderr",
     "output_type": "stream",
     "text": [
      "DEBUG:lazyflow.operators.classifierOperators.OpBaseClassifierPredict:classifier changed, setting dirty\n"
     ]
    },
    {
     "name": "stdout",
     "output_type": "stream",
     "text": [
      "DEBUG lazyflow.operators.classifierOperators.OpBaseClassifierPredict: classifier changed, setting dirty\n"
     ]
    },
    {
     "name": "stderr",
     "output_type": "stream",
     "text": [
      "DEBUG:lazyflow.operators.classifierOperators.OpBaseClassifierPredict:classifier changed, setting dirty\n"
     ]
    },
    {
     "name": "stdout",
     "output_type": "stream",
     "text": [
      "DEBUG lazyflow.operators.classifierOperators.OpBaseClassifierPredict: classifier changed, setting dirty\n"
     ]
    },
    {
     "name": "stderr",
     "output_type": "stream",
     "text": [
      "DEBUG:lazyflow.operators.classifierOperators.OpBaseClassifierPredict:classifier changed, setting dirty\n"
     ]
    },
    {
     "name": "stdout",
     "output_type": "stream",
     "text": [
      "DEBUG lazyflow.operators.classifierOperators.OpBaseClassifierPredict: classifier changed, setting dirty\n"
     ]
    },
    {
     "name": "stderr",
     "output_type": "stream",
     "text": [
      "DEBUG:lazyflow.operators.classifierOperators.OpBaseClassifierPredict:classifier changed, setting dirty\n"
     ]
    },
    {
     "name": "stdout",
     "output_type": "stream",
     "text": [
      "INFO ilastik.applets.batchProcessing.batchProcessingApplet: Exporting to in-memory array.\n"
     ]
    },
    {
     "name": "stderr",
     "output_type": "stream",
     "text": [
      "INFO:ilastik.applets.batchProcessing.batchProcessingApplet:Exporting to in-memory array.\n"
     ]
    },
    {
     "name": "stdout",
     "output_type": "stream",
     "text": [
      "INFO lazyflow.utility.bigRequestStreamer: Estimated RAM usage per pixel is 504.0B * safety factor (2.0)\n"
     ]
    },
    {
     "name": "stderr",
     "output_type": "stream",
     "text": [
      "INFO:lazyflow.utility.bigRequestStreamer:Estimated RAM usage per pixel is 504.0B * safety factor (2.0)\n"
     ]
    },
    {
     "name": "stdout",
     "output_type": "stream",
     "text": [
      "INFO lazyflow.utility.bigRequestStreamer: determining blockshape assuming available_ram is 1.5GiB, split between 2 threads\n"
     ]
    },
    {
     "name": "stderr",
     "output_type": "stream",
     "text": [
      "INFO:lazyflow.utility.bigRequestStreamer:determining blockshape assuming available_ram is 1.5GiB, split between 2 threads\n"
     ]
    },
    {
     "name": "stdout",
     "output_type": "stream",
     "text": [
      "INFO lazyflow.utility.bigRequestStreamer: Chose blockshape: (1, 92, 92, 92, 2)\n"
     ]
    },
    {
     "name": "stderr",
     "output_type": "stream",
     "text": [
      "INFO:lazyflow.utility.bigRequestStreamer:Chose blockshape: (1, 92, 92, 92, 2)\n"
     ]
    },
    {
     "name": "stdout",
     "output_type": "stream",
     "text": [
      "INFO lazyflow.utility.bigRequestStreamer: Estimated RAM usage per block is 748.6MiB\n"
     ]
    },
    {
     "name": "stderr",
     "output_type": "stream",
     "text": [
      "INFO:lazyflow.utility.bigRequestStreamer:Estimated RAM usage per block is 748.6MiB\n"
     ]
    },
    {
     "name": "stdout",
     "output_type": "stream",
     "text": [
      "DEBUG lazyflow.operators.classifierOperators: Features took 3.521259 seconds. Prediction took 1.457355 seconds. Subregion: start '[0, 0, 0, 0]' stop '[92, 92, 92, 2]'\n"
     ]
    },
    {
     "name": "stderr",
     "output_type": "stream",
     "text": [
      "DEBUG:lazyflow.operators.classifierOperators:Features took 3.521259 seconds. Prediction took 1.457355 seconds. Subregion: start '[0, 0, 0, 0]' stop '[92, 92, 92, 2]'\n"
     ]
    },
    {
     "name": "stdout",
     "output_type": "stream",
     "text": [
      "DEBUG lazyflow.operators.classifierOperators: Features took 6.44751 seconds. Prediction took 1.604185 seconds. Subregion: start '[0, 0, 92, 0]' stop '[92, 92, 184, 2]'\n"
     ]
    },
    {
     "name": "stderr",
     "output_type": "stream",
     "text": [
      "DEBUG:lazyflow.operators.classifierOperators:Features took 6.44751 seconds. Prediction took 1.604185 seconds. Subregion: start '[0, 0, 92, 0]' stop '[92, 92, 184, 2]'\n"
     ]
    },
    {
     "name": "stdout",
     "output_type": "stream",
     "text": [
      "DEBUG lazyflow.operators.classifierOperators: Features took 1.85689 seconds. Prediction took 0.043274 seconds. Subregion: start '[0, 0, 276, 0]' stop '[92, 92, 278, 2]'\n"
     ]
    },
    {
     "name": "stderr",
     "output_type": "stream",
     "text": [
      "DEBUG:lazyflow.operators.classifierOperators:Features took 1.85689 seconds. Prediction took 0.043274 seconds. Subregion: start '[0, 0, 276, 0]' stop '[92, 92, 278, 2]'\n"
     ]
    },
    {
     "name": "stdout",
     "output_type": "stream",
     "text": [
      "DEBUG lazyflow.operators.classifierOperators: Features took 4.55261 seconds. Prediction took 1.787518 seconds. Subregion: start '[0, 0, 184, 0]' stop '[92, 92, 276, 2]'\n"
     ]
    },
    {
     "name": "stderr",
     "output_type": "stream",
     "text": [
      "DEBUG:lazyflow.operators.classifierOperators:Features took 4.55261 seconds. Prediction took 1.787518 seconds. Subregion: start '[0, 0, 184, 0]' stop '[92, 92, 276, 2]'\n"
     ]
    },
    {
     "name": "stdout",
     "output_type": "stream",
     "text": [
      "DEBUG lazyflow.operators.classifierOperators: Features took 4.103543 seconds. Prediction took 1.548018 seconds. Subregion: start '[0, 92, 0, 0]' stop '[92, 184, 92, 2]'\n"
     ]
    },
    {
     "name": "stderr",
     "output_type": "stream",
     "text": [
      "DEBUG:lazyflow.operators.classifierOperators:Features took 4.103543 seconds. Prediction took 1.548018 seconds. Subregion: start '[0, 92, 0, 0]' stop '[92, 184, 92, 2]'\n"
     ]
    },
    {
     "name": "stdout",
     "output_type": "stream",
     "text": [
      "DEBUG lazyflow.operators.classifierOperators: Features took 5.841382 seconds. Prediction took 1.31543 seconds. Subregion: start '[0, 92, 92, 0]' stop '[92, 184, 184, 2]'\n"
     ]
    },
    {
     "name": "stderr",
     "output_type": "stream",
     "text": [
      "DEBUG:lazyflow.operators.classifierOperators:Features took 5.841382 seconds. Prediction took 1.31543 seconds. Subregion: start '[0, 92, 92, 0]' stop '[92, 184, 184, 2]'\n"
     ]
    },
    {
     "name": "stdout",
     "output_type": "stream",
     "text": [
      "DEBUG lazyflow.operators.classifierOperators: Features took 2.204614 seconds. Prediction took 0.041573 seconds. Subregion: start '[0, 92, 276, 0]' stop '[92, 184, 278, 2]'\n"
     ]
    },
    {
     "name": "stderr",
     "output_type": "stream",
     "text": [
      "DEBUG:lazyflow.operators.classifierOperators:Features took 2.204614 seconds. Prediction took 0.041573 seconds. Subregion: start '[0, 92, 276, 0]' stop '[92, 184, 278, 2]'\n"
     ]
    },
    {
     "name": "stdout",
     "output_type": "stream",
     "text": [
      "DEBUG lazyflow.operators.classifierOperators: Features took 4.890799 seconds. Prediction took 1.547834 seconds. Subregion: start '[0, 92, 184, 0]' stop '[92, 184, 276, 2]'\n"
     ]
    },
    {
     "name": "stderr",
     "output_type": "stream",
     "text": [
      "DEBUG:lazyflow.operators.classifierOperators:Features took 4.890799 seconds. Prediction took 1.547834 seconds. Subregion: start '[0, 92, 184, 0]' stop '[92, 184, 276, 2]'\n"
     ]
    },
    {
     "name": "stdout",
     "output_type": "stream",
     "text": [
      "DEBUG lazyflow.operators.classifierOperators: Features took 3.23376 seconds. Prediction took 1.378965 seconds. Subregion: start '[0, 184, 0, 0]' stop '[92, 263, 92, 2]'\n"
     ]
    },
    {
     "name": "stderr",
     "output_type": "stream",
     "text": [
      "DEBUG:lazyflow.operators.classifierOperators:Features took 3.23376 seconds. Prediction took 1.378965 seconds. Subregion: start '[0, 184, 0, 0]' stop '[92, 263, 92, 2]'\n"
     ]
    },
    {
     "name": "stdout",
     "output_type": "stream",
     "text": [
      "DEBUG lazyflow.operators.classifierOperators: Features took 4.74332 seconds. Prediction took 1.130733 seconds. Subregion: start '[0, 184, 92, 0]' stop '[92, 263, 184, 2]'\n"
     ]
    },
    {
     "name": "stderr",
     "output_type": "stream",
     "text": [
      "DEBUG:lazyflow.operators.classifierOperators:Features took 4.74332 seconds. Prediction took 1.130733 seconds. Subregion: start '[0, 184, 92, 0]' stop '[92, 263, 184, 2]'\n"
     ]
    },
    {
     "name": "stdout",
     "output_type": "stream",
     "text": [
      "DEBUG lazyflow.operators.classifierOperators: Features took 1.7941099999999999 seconds. Prediction took 0.036588 seconds. Subregion: start '[0, 184, 276, 0]' stop '[92, 263, 278, 2]'\n"
     ]
    },
    {
     "name": "stderr",
     "output_type": "stream",
     "text": [
      "DEBUG:lazyflow.operators.classifierOperators:Features took 1.7941099999999999 seconds. Prediction took 0.036588 seconds. Subregion: start '[0, 184, 276, 0]' stop '[92, 263, 278, 2]'\n"
     ]
    },
    {
     "name": "stdout",
     "output_type": "stream",
     "text": [
      "DEBUG lazyflow.operators.classifierOperators: Features took 4.080587 seconds. Prediction took 1.569561 seconds. Subregion: start '[0, 184, 184, 0]' stop '[92, 263, 276, 2]'\n"
     ]
    },
    {
     "name": "stderr",
     "output_type": "stream",
     "text": [
      "DEBUG:lazyflow.operators.classifierOperators:Features took 4.080587 seconds. Prediction took 1.569561 seconds. Subregion: start '[0, 184, 184, 0]' stop '[92, 263, 276, 2]'\n"
     ]
    },
    {
     "name": "stdout",
     "output_type": "stream",
     "text": [
      "DEBUG lazyflow.operators.classifierOperators: Features took 3.813008 seconds. Prediction took 1.5051700000000001 seconds. Subregion: start '[92, 0, 0, 0]' stop '[184, 92, 92, 2]'\n"
     ]
    },
    {
     "name": "stderr",
     "output_type": "stream",
     "text": [
      "DEBUG:lazyflow.operators.classifierOperators:Features took 3.813008 seconds. Prediction took 1.5051700000000001 seconds. Subregion: start '[92, 0, 0, 0]' stop '[184, 92, 92, 2]'\n"
     ]
    },
    {
     "name": "stdout",
     "output_type": "stream",
     "text": [
      "DEBUG lazyflow.operators.classifierOperators: Features took 5.664957 seconds. Prediction took 1.2848899999999999 seconds. Subregion: start '[92, 0, 92, 0]' stop '[184, 92, 184, 2]'\n"
     ]
    },
    {
     "name": "stderr",
     "output_type": "stream",
     "text": [
      "DEBUG:lazyflow.operators.classifierOperators:Features took 5.664957 seconds. Prediction took 1.2848899999999999 seconds. Subregion: start '[92, 0, 92, 0]' stop '[184, 92, 184, 2]'\n"
     ]
    },
    {
     "name": "stdout",
     "output_type": "stream",
     "text": [
      "DEBUG lazyflow.operators.classifierOperators: Features took 2.280928 seconds. Prediction took 0.040909 seconds. Subregion: start '[92, 0, 276, 0]' stop '[184, 92, 278, 2]'\n"
     ]
    },
    {
     "name": "stderr",
     "output_type": "stream",
     "text": [
      "DEBUG:lazyflow.operators.classifierOperators:Features took 2.280928 seconds. Prediction took 0.040909 seconds. Subregion: start '[92, 0, 276, 0]' stop '[184, 92, 278, 2]'\n"
     ]
    },
    {
     "name": "stdout",
     "output_type": "stream",
     "text": [
      "DEBUG lazyflow.operators.classifierOperators: Features took 4.745932 seconds. Prediction took 1.733809 seconds. Subregion: start '[92, 0, 184, 0]' stop '[184, 92, 276, 2]'\n"
     ]
    },
    {
     "name": "stderr",
     "output_type": "stream",
     "text": [
      "DEBUG:lazyflow.operators.classifierOperators:Features took 4.745932 seconds. Prediction took 1.733809 seconds. Subregion: start '[92, 0, 184, 0]' stop '[184, 92, 276, 2]'\n"
     ]
    },
    {
     "name": "stdout",
     "output_type": "stream",
     "text": [
      "DEBUG lazyflow.operators.classifierOperators: Features took 4.172435 seconds. Prediction took 1.561347 seconds. Subregion: start '[92, 92, 0, 0]' stop '[184, 184, 92, 2]'\n"
     ]
    },
    {
     "name": "stderr",
     "output_type": "stream",
     "text": [
      "DEBUG:lazyflow.operators.classifierOperators:Features took 4.172435 seconds. Prediction took 1.561347 seconds. Subregion: start '[92, 92, 0, 0]' stop '[184, 184, 92, 2]'\n"
     ]
    },
    {
     "name": "stdout",
     "output_type": "stream",
     "text": [
      "DEBUG lazyflow.operators.classifierOperators: Features took 6.204926 seconds. Prediction took 1.327714 seconds. Subregion: start '[92, 92, 92, 0]' stop '[184, 184, 184, 2]'\n"
     ]
    },
    {
     "name": "stderr",
     "output_type": "stream",
     "text": [
      "DEBUG:lazyflow.operators.classifierOperators:Features took 6.204926 seconds. Prediction took 1.327714 seconds. Subregion: start '[92, 92, 92, 0]' stop '[184, 184, 184, 2]'\n"
     ]
    },
    {
     "name": "stdout",
     "output_type": "stream",
     "text": [
      "DEBUG lazyflow.operators.classifierOperators: Features took 2.2930260000000002 seconds. Prediction took 0.040938 seconds. Subregion: start '[92, 92, 276, 0]' stop '[184, 184, 278, 2]'\n"
     ]
    },
    {
     "name": "stderr",
     "output_type": "stream",
     "text": [
      "DEBUG:lazyflow.operators.classifierOperators:Features took 2.2930260000000002 seconds. Prediction took 0.040938 seconds. Subregion: start '[92, 92, 276, 0]' stop '[184, 184, 278, 2]'\n"
     ]
    },
    {
     "name": "stdout",
     "output_type": "stream",
     "text": [
      "DEBUG lazyflow.operators.classifierOperators: Features took 5.053766 seconds. Prediction took 1.619482 seconds. Subregion: start '[92, 92, 184, 0]' stop '[184, 184, 276, 2]'\n"
     ]
    },
    {
     "name": "stderr",
     "output_type": "stream",
     "text": [
      "DEBUG:lazyflow.operators.classifierOperators:Features took 5.053766 seconds. Prediction took 1.619482 seconds. Subregion: start '[92, 92, 184, 0]' stop '[184, 184, 276, 2]'\n"
     ]
    },
    {
     "name": "stdout",
     "output_type": "stream",
     "text": [
      "DEBUG lazyflow.operators.classifierOperators: Features took 3.429459 seconds. Prediction took 1.121387 seconds. Subregion: start '[92, 184, 0, 0]' stop '[184, 263, 92, 2]'\n"
     ]
    },
    {
     "name": "stderr",
     "output_type": "stream",
     "text": [
      "DEBUG:lazyflow.operators.classifierOperators:Features took 3.429459 seconds. Prediction took 1.121387 seconds. Subregion: start '[92, 184, 0, 0]' stop '[184, 263, 92, 2]'\n"
     ]
    },
    {
     "name": "stdout",
     "output_type": "stream",
     "text": [
      "DEBUG lazyflow.operators.classifierOperators: Features took 5.081624 seconds. Prediction took 1.266029 seconds. Subregion: start '[92, 184, 92, 0]' stop '[184, 263, 184, 2]'\n"
     ]
    },
    {
     "name": "stderr",
     "output_type": "stream",
     "text": [
      "DEBUG:lazyflow.operators.classifierOperators:Features took 5.081624 seconds. Prediction took 1.266029 seconds. Subregion: start '[92, 184, 92, 0]' stop '[184, 263, 184, 2]'\n"
     ]
    },
    {
     "name": "stdout",
     "output_type": "stream",
     "text": [
      "DEBUG lazyflow.operators.classifierOperators: Features took 1.346133 seconds. Prediction took 0.072425 seconds. Subregion: start '[92, 184, 276, 0]' stop '[184, 263, 278, 2]'\n"
     ]
    },
    {
     "name": "stderr",
     "output_type": "stream",
     "text": [
      "DEBUG:lazyflow.operators.classifierOperators:Features took 1.346133 seconds. Prediction took 0.072425 seconds. Subregion: start '[92, 184, 276, 0]' stop '[184, 263, 278, 2]'\n"
     ]
    },
    {
     "name": "stdout",
     "output_type": "stream",
     "text": [
      "DEBUG lazyflow.operators.classifierOperators: Features took 4.455357 seconds. Prediction took 1.283671 seconds. Subregion: start '[92, 184, 184, 0]' stop '[184, 263, 276, 2]'\n"
     ]
    },
    {
     "name": "stderr",
     "output_type": "stream",
     "text": [
      "DEBUG:lazyflow.operators.classifierOperators:Features took 4.455357 seconds. Prediction took 1.283671 seconds. Subregion: start '[92, 184, 184, 0]' stop '[184, 263, 276, 2]'\n"
     ]
    },
    {
     "name": "stdout",
     "output_type": "stream",
     "text": [
      "DEBUG lazyflow.operators.classifierOperators: Features took 2.349097 seconds. Prediction took 0.905772 seconds. Subregion: start '[184, 0, 0, 0]' stop '[236, 92, 92, 2]'\n"
     ]
    },
    {
     "name": "stderr",
     "output_type": "stream",
     "text": [
      "DEBUG:lazyflow.operators.classifierOperators:Features took 2.349097 seconds. Prediction took 0.905772 seconds. Subregion: start '[184, 0, 0, 0]' stop '[236, 92, 92, 2]'\n"
     ]
    },
    {
     "name": "stdout",
     "output_type": "stream",
     "text": [
      "DEBUG lazyflow.operators.classifierOperators: Features took 3.140729 seconds. Prediction took 0.731309 seconds. Subregion: start '[184, 0, 92, 0]' stop '[236, 92, 184, 2]'\n"
     ]
    },
    {
     "name": "stderr",
     "output_type": "stream",
     "text": [
      "DEBUG:lazyflow.operators.classifierOperators:Features took 3.140729 seconds. Prediction took 0.731309 seconds. Subregion: start '[184, 0, 92, 0]' stop '[236, 92, 184, 2]'\n"
     ]
    },
    {
     "name": "stdout",
     "output_type": "stream",
     "text": [
      "DEBUG lazyflow.operators.classifierOperators: Features took 0.976307 seconds. Prediction took 0.048968 seconds. Subregion: start '[184, 0, 276, 0]' stop '[236, 92, 278, 2]'\n"
     ]
    },
    {
     "name": "stderr",
     "output_type": "stream",
     "text": [
      "DEBUG:lazyflow.operators.classifierOperators:Features took 0.976307 seconds. Prediction took 0.048968 seconds. Subregion: start '[184, 0, 276, 0]' stop '[236, 92, 278, 2]'\n"
     ]
    },
    {
     "name": "stdout",
     "output_type": "stream",
     "text": [
      "DEBUG lazyflow.operators.classifierOperators: Features took 2.84678 seconds. Prediction took 1.040273 seconds. Subregion: start '[184, 0, 184, 0]' stop '[236, 92, 276, 2]'\n"
     ]
    },
    {
     "name": "stderr",
     "output_type": "stream",
     "text": [
      "DEBUG:lazyflow.operators.classifierOperators:Features took 2.84678 seconds. Prediction took 1.040273 seconds. Subregion: start '[184, 0, 184, 0]' stop '[236, 92, 276, 2]'\n"
     ]
    },
    {
     "name": "stdout",
     "output_type": "stream",
     "text": [
      "DEBUG lazyflow.operators.classifierOperators: Features took 2.5824949999999998 seconds. Prediction took 0.83878 seconds. Subregion: start '[184, 92, 0, 0]' stop '[236, 184, 92, 2]'\n"
     ]
    },
    {
     "name": "stderr",
     "output_type": "stream",
     "text": [
      "DEBUG:lazyflow.operators.classifierOperators:Features took 2.5824949999999998 seconds. Prediction took 0.83878 seconds. Subregion: start '[184, 92, 0, 0]' stop '[236, 184, 92, 2]'\n"
     ]
    },
    {
     "name": "stdout",
     "output_type": "stream",
     "text": [
      "DEBUG lazyflow.operators.classifierOperators: Features took 3.307889 seconds. Prediction took 0.735643 seconds. Subregion: start '[184, 92, 92, 0]' stop '[236, 184, 184, 2]'\n"
     ]
    },
    {
     "name": "stderr",
     "output_type": "stream",
     "text": [
      "DEBUG:lazyflow.operators.classifierOperators:Features took 3.307889 seconds. Prediction took 0.735643 seconds. Subregion: start '[184, 92, 92, 0]' stop '[236, 184, 184, 2]'\n"
     ]
    },
    {
     "name": "stdout",
     "output_type": "stream",
     "text": [
      "DEBUG lazyflow.operators.classifierOperators: Features took 1.113124 seconds. Prediction took 0.190305 seconds. Subregion: start '[184, 92, 276, 0]' stop '[236, 184, 278, 2]'\n"
     ]
    },
    {
     "name": "stderr",
     "output_type": "stream",
     "text": [
      "DEBUG:lazyflow.operators.classifierOperators:Features took 1.113124 seconds. Prediction took 0.190305 seconds. Subregion: start '[184, 92, 276, 0]' stop '[236, 184, 278, 2]'\n"
     ]
    },
    {
     "name": "stdout",
     "output_type": "stream",
     "text": [
      "DEBUG lazyflow.operators.classifierOperators: Features took 2.914535 seconds. Prediction took 0.854645 seconds. Subregion: start '[184, 92, 184, 0]' stop '[236, 184, 276, 2]'\n"
     ]
    },
    {
     "name": "stderr",
     "output_type": "stream",
     "text": [
      "DEBUG:lazyflow.operators.classifierOperators:Features took 2.914535 seconds. Prediction took 0.854645 seconds. Subregion: start '[184, 92, 184, 0]' stop '[236, 184, 276, 2]'\n"
     ]
    },
    {
     "name": "stdout",
     "output_type": "stream",
     "text": [
      "DEBUG lazyflow.operators.classifierOperators: Features took 1.988207 seconds. Prediction took 0.733084 seconds. Subregion: start '[184, 184, 0, 0]' stop '[236, 263, 92, 2]'\n"
     ]
    },
    {
     "name": "stderr",
     "output_type": "stream",
     "text": [
      "DEBUG:lazyflow.operators.classifierOperators:Features took 1.988207 seconds. Prediction took 0.733084 seconds. Subregion: start '[184, 184, 0, 0]' stop '[236, 263, 92, 2]'\n"
     ]
    },
    {
     "name": "stdout",
     "output_type": "stream",
     "text": [
      "DEBUG lazyflow.operators.classifierOperators: Features took 2.891156 seconds. Prediction took 0.629505 seconds. Subregion: start '[184, 184, 92, 0]' stop '[236, 263, 184, 2]'\n"
     ]
    },
    {
     "name": "stderr",
     "output_type": "stream",
     "text": [
      "DEBUG:lazyflow.operators.classifierOperators:Features took 2.891156 seconds. Prediction took 0.629505 seconds. Subregion: start '[184, 184, 92, 0]' stop '[236, 263, 184, 2]'\n"
     ]
    },
    {
     "name": "stdout",
     "output_type": "stream",
     "text": [
      "DEBUG lazyflow.operators.classifierOperators: Features took 1.103194 seconds. Prediction took 0.020875 seconds. Subregion: start '[184, 184, 276, 0]' stop '[236, 263, 278, 2]'\n"
     ]
    },
    {
     "name": "stderr",
     "output_type": "stream",
     "text": [
      "DEBUG:lazyflow.operators.classifierOperators:Features took 1.103194 seconds. Prediction took 0.020875 seconds. Subregion: start '[184, 184, 276, 0]' stop '[236, 263, 278, 2]'\n"
     ]
    },
    {
     "name": "stdout",
     "output_type": "stream",
     "text": [
      "DEBUG lazyflow.operators.classifierOperators: Features took 2.473907 seconds. Prediction took 0.622529 seconds. Subregion: start '[184, 184, 184, 0]' stop '[236, 263, 276, 2]'\n"
     ]
    },
    {
     "name": "stderr",
     "output_type": "stream",
     "text": [
      "DEBUG:lazyflow.operators.classifierOperators:Features took 2.473907 seconds. Prediction took 0.622529 seconds. Subregion: start '[184, 184, 184, 0]' stop '[236, 263, 276, 2]'\n"
     ]
    },
    {
     "name": "stdout",
     "output_type": "stream",
     "text": [
      "Saving Probabilities as an Image in OMERO\n",
      "z: 0/235\n",
      "z: 1/235\n",
      "z: 2/235\n",
      "z: 3/235\n",
      "z: 4/235\n",
      "z: 5/235\n",
      "z: 6/235\n",
      "z: 7/235\n",
      "z: 8/235\n",
      "z: 9/235\n",
      "z: 10/235\n",
      "z: 11/235\n",
      "z: 12/235\n",
      "z: 13/235\n",
      "z: 14/235\n",
      "z: 15/235\n",
      "z: 16/235\n",
      "z: 17/235\n",
      "z: 18/235\n",
      "z: 19/235\n",
      "z: 20/235\n",
      "z: 21/235\n",
      "z: 22/235\n",
      "z: 23/235\n",
      "z: 24/235\n",
      "z: 25/235\n",
      "z: 26/235\n",
      "z: 27/235\n",
      "z: 28/235\n",
      "z: 29/235\n",
      "z: 30/235\n",
      "z: 31/235\n",
      "z: 32/235\n",
      "z: 33/235\n",
      "z: 34/235\n",
      "z: 35/235\n",
      "z: 36/235\n",
      "z: 37/235\n",
      "z: 38/235\n",
      "z: 39/235\n",
      "z: 40/235\n",
      "z: 41/235\n",
      "z: 42/235\n",
      "z: 43/235\n",
      "z: 44/235\n",
      "z: 45/235\n",
      "z: 46/235\n",
      "z: 47/235\n",
      "z: 48/235\n",
      "z: 49/235\n",
      "z: 50/235\n",
      "z: 51/235\n",
      "z: 52/235\n",
      "z: 53/235\n",
      "z: 54/235\n",
      "z: 55/235\n",
      "z: 56/235\n",
      "z: 57/235\n",
      "z: 58/235\n",
      "z: 59/235\n",
      "z: 60/235\n",
      "z: 61/235\n",
      "z: 62/235\n",
      "z: 63/235\n",
      "z: 64/235\n",
      "z: 65/235\n",
      "z: 66/235\n",
      "z: 67/235\n",
      "z: 68/235\n",
      "z: 69/235\n",
      "z: 70/235\n",
      "z: 71/235\n",
      "z: 72/235\n",
      "z: 73/235\n",
      "z: 74/235\n",
      "z: 75/235\n",
      "z: 76/235\n",
      "z: 77/235\n",
      "z: 78/235\n",
      "z: 79/235\n",
      "z: 80/235\n",
      "z: 81/235\n",
      "z: 82/235\n",
      "z: 83/235\n",
      "z: 84/235\n",
      "z: 85/235\n",
      "z: 86/235\n",
      "z: 87/235\n",
      "z: 88/235\n",
      "z: 89/235\n",
      "z: 90/235\n",
      "z: 91/235\n",
      "z: 92/235\n",
      "z: 93/235\n",
      "z: 94/235\n",
      "z: 95/235\n",
      "z: 96/235\n",
      "z: 97/235\n",
      "z: 98/235\n",
      "z: 99/235\n",
      "z: 100/235\n",
      "z: 101/235\n",
      "z: 102/235\n",
      "z: 103/235\n",
      "z: 104/235\n",
      "z: 105/235\n",
      "z: 106/235\n",
      "z: 107/235\n",
      "z: 108/235\n",
      "z: 109/235\n",
      "z: 110/235\n",
      "z: 111/235\n",
      "z: 112/235\n",
      "z: 113/235\n",
      "z: 114/235\n",
      "z: 115/235\n",
      "z: 116/235\n",
      "z: 117/235\n",
      "z: 118/235\n",
      "z: 119/235\n",
      "z: 120/235\n",
      "z: 121/235\n",
      "z: 122/235\n",
      "z: 123/235\n",
      "z: 124/235\n",
      "z: 125/235\n",
      "z: 126/235\n",
      "z: 127/235\n",
      "z: 128/235\n",
      "z: 129/235\n",
      "z: 130/235\n",
      "z: 131/235\n",
      "z: 132/235\n",
      "z: 133/235\n",
      "z: 134/235\n",
      "z: 135/235\n",
      "z: 136/235\n",
      "z: 137/235\n",
      "z: 138/235\n",
      "z: 139/235\n",
      "z: 140/235\n",
      "z: 141/235\n",
      "z: 142/235\n",
      "z: 143/235\n",
      "z: 144/235\n",
      "z: 145/235\n",
      "z: 146/235\n",
      "z: 147/235\n",
      "z: 148/235\n",
      "z: 149/235\n",
      "z: 150/235\n",
      "z: 151/235\n",
      "z: 152/235\n",
      "z: 153/235\n",
      "z: 154/235\n",
      "z: 155/235\n",
      "z: 156/235\n",
      "z: 157/235\n",
      "z: 158/235\n",
      "z: 159/235\n",
      "z: 160/235\n",
      "z: 161/235\n",
      "z: 162/235\n",
      "z: 163/235\n",
      "z: 164/235\n",
      "z: 165/235\n",
      "z: 166/235\n",
      "z: 167/235\n",
      "z: 168/235\n",
      "z: 169/235\n",
      "z: 170/235\n",
      "z: 171/235\n",
      "z: 172/235\n",
      "z: 173/235\n",
      "z: 174/235\n",
      "z: 175/235\n",
      "z: 176/235\n",
      "z: 177/235\n",
      "z: 178/235\n",
      "z: 179/235\n",
      "z: 180/235\n",
      "z: 181/235\n",
      "z: 182/235\n",
      "z: 183/235\n",
      "z: 184/235\n",
      "z: 185/235\n",
      "z: 186/235\n",
      "z: 187/235\n",
      "z: 188/235\n",
      "z: 189/235\n",
      "z: 190/235\n",
      "z: 191/235\n",
      "z: 192/235\n",
      "z: 193/235\n",
      "z: 194/235\n",
      "z: 195/235\n",
      "z: 196/235\n",
      "z: 197/235\n",
      "z: 198/235\n",
      "z: 199/235\n",
      "z: 200/235\n",
      "z: 201/235\n",
      "z: 202/235\n",
      "z: 203/235\n",
      "z: 204/235\n",
      "z: 205/235\n",
      "z: 206/235\n",
      "z: 207/235\n",
      "z: 208/235\n",
      "z: 209/235\n",
      "z: 210/235\n",
      "z: 211/235\n",
      "z: 212/235\n",
      "z: 213/235\n",
      "z: 214/235\n",
      "z: 215/235\n",
      "z: 216/235\n",
      "z: 217/235\n",
      "z: 218/235\n",
      "z: 219/235\n",
      "z: 220/235\n",
      "z: 221/235\n",
      "z: 222/235\n",
      "z: 223/235\n",
      "z: 224/235\n",
      "z: 225/235\n",
      "z: 226/235\n",
      "z: 227/235\n",
      "z: 228/235\n",
      "z: 229/235\n",
      "z: 230/235\n",
      "z: 231/235\n",
      "z: 232/235\n",
      "z: 233/235\n",
      "z: 234/235\n",
      "z: 235/235\n",
      "done\n"
     ]
    }
   ],
   "source": [
    "# Load the model linked to the dataset\n",
    "model_file = model_selection.value\n",
    "\n",
    "images = conn.getObjects('Image', opts={'dataset': dataset_id})\n",
    "\n",
    "# Create a new dataset where to upload the generated images\n",
    "dataset_obj = omero.model.DatasetI()\n",
    "v = \"ilastik_probabilities_from_dataset_%s\" % dataset_id\n",
    "dataset_obj.setName(omero.rtypes.rstring(v))\n",
    "v = \"ilatisk results probabilities from Dataset:%s\" % dataset_id\n",
    "dataset_obj.setDescription(omero.rtypes.rstring(v))\n",
    "dataset_obj = conn.getUpdateService().saveAndReturnObject(dataset_obj)\n",
    "\n",
    "# Prepare ilastik\n",
    "os.environ[\"LAZYFLOW_THREADS\"] = \"2\"\n",
    "os.environ[\"LAZYFLOW_TOTAL_RAM_MB\"] = \"2000\"\n",
    "args = app.parse_args([])\n",
    "args.headless = True\n",
    "args.project = model_file\n",
    "shell = app.main(args)\n",
    "\n",
    "images = itertools.islice(images, 2)\n",
    "for image in images:\n",
    "    filename, file_extension = os.path.splitext(image.getName())\n",
    "    input_data = load_numpy_array(image)\n",
    "\n",
    "    # run ilastik headless\n",
    "    print('running ilastik using %s and %s' % (model_file, image.getName()))\n",
    "    role_data_dict = [ {\"Raw Data\": PreloadedArrayDatasetInfo(preloaded_array=input_data, axistags=vigra.defaultAxistags(\"tzyxc\"))}]\n",
    "\n",
    "    predictions = shell.workflow.batchProcessingApplet.run_export(role_data_dict, export_to_array=True)\n",
    "    # Save the probabilities file to the image\n",
    "    print(\"Saving Probabilities as an Image in OMERO\")\n",
    "    name = filename + \"_Probabilities\"\n",
    "    desc = \"ilastik probabilities from Image:%s\" % image.getId()\n",
    "    for data in predictions:\n",
    "        # Re-organise array from tzyxc to zctyx order expected by OMERO\n",
    "        data = data.swapaxes(0, 1).swapaxes(3, 4).swapaxes(2, 3).swapaxes(1, 2)\n",
    "        conn.createImageFromNumpySeq(plane_gen(), name,\n",
    "                                     data.shape[0], data.shape[1],\n",
    "                                     data.shape[2], description=desc,\n",
    "                                     dataset=dataset_obj)\n",
    "\n",
    "print(\"done\")"
   ]
  },
  {
   "cell_type": "markdown",
   "metadata": {},
   "source": [
    "### View the results."
   ]
  },
  {
   "cell_type": "code",
   "execution_count": null,
   "metadata": {},
   "outputs": [],
   "source": [
    "view(data_viewer)"
   ]
  },
  {
   "cell_type": "markdown",
   "metadata": {},
   "source": [
    "### Close the connection to the OMERO server"
   ]
  },
  {
   "cell_type": "code",
   "execution_count": 10,
   "metadata": {},
   "outputs": [],
   "source": [
    "conn.close()"
   ]
  },
  {
   "cell_type": "markdown",
   "metadata": {
    "collapsed": true
   },
   "source": [
    "### License (BSD 2-Clause)\n",
    "Copyright (C) 2019-2021 University of Dundee. All Rights Reserved.\n",
    "\n",
    "Redistribution and use in source and binary forms, with or without modification, are permitted provided that the following conditions are met:\n",
    "\n",
    "Redistributions of source code must retain the above copyright notice, this list of conditions and the following disclaimer.\n",
    "Redistributions in binary form must reproduce the above copyright notice, this list of conditions and the following disclaimer in the documentation and/or other materials provided with the distribution.\n",
    "THIS SOFTWARE IS PROVIDED BY THE COPYRIGHT HOLDERS AND CONTRIBUTORS \"AS IS\" AND ANY EXPRESS OR IMPLIED WARRANTIES, INCLUDING, BUT NOT LIMITED TO, THE IMPLIED WARRANTIES OF MERCHANTABILITY AND FITNESS FOR A PARTICULAR PURPOSE ARE DISCLAIMED. IN NO EVENT SHALL THE COPYRIGHT OWNER OR CONTRIBUTORS BE LIABLE FOR ANY DIRECT, INDIRECT, INCIDENTAL, SPECIAL, EXEMPLARY, OR CONSEQUENTIAL DAMAGES (INCLUDING, BUT NOT LIMITED TO, PROCUREMENT OF SUBSTITUTE GOODS OR SERVICES; LOSS OF USE, DATA, OR PROFITS; OR BUSINESS INTERRUPTION) HOWEVER CAUSED AND ON ANY THEORY OF LIABILITY, WHETHER IN CONTRACT, STRICT LIABILITY, OR TORT (INCLUDING NEGLIGENCE OR OTHERWISE) ARISING IN ANY WAY OUT OF THE USE OF THIS SOFTWARE, EVEN IF ADVISED OF THE POSSIBILITY OF SUCH DAMAGE."
   ]
  }
 ],
 "metadata": {
  "kernelspec": {
   "display_name": "imaging_course_ilastik",
   "language": "python",
   "name": "imaging_course_ilastik"
  },
  "language_info": {
   "codemirror_mode": {
    "name": "ipython",
    "version": 3
   },
   "file_extension": ".py",
   "mimetype": "text/x-python",
   "name": "python",
   "nbconvert_exporter": "python",
   "pygments_lexer": "ipython3",
   "version": "3.9.15"
  },
  "toc": {
   "base_numbering": 1,
   "nav_menu": {},
   "number_sections": false,
   "sideBar": false,
   "skip_h1_title": false,
   "title_cell": "Table of Contents",
   "title_sidebar": "Contents",
   "toc_cell": false,
   "toc_position": {},
   "toc_section_display": false,
   "toc_window_display": false
  }
 },
 "nbformat": 4,
 "nbformat_minor": 2
}
