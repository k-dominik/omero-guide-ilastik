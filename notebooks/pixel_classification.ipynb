{
 "cells": [
  {
   "cell_type": "markdown",
   "metadata": {},
   "source": [
    "# Analyze data using ilastik\n",
    "The notebook shows how load images contained in a dataset\n",
    "from OMERO as numpy arrays and analyze them in ilastik.\n",
    "The images are taken from  the paper \"NesSys: a novel method for accurate nuclear segmentation in 3D\" published August 2019 in PLOS Biology: https://doi.org/10.1371/journal.pbio.3000388\n",
    "\n",
    "The images can be viewed online in the [Image Data Resource](https://idr.openmicroscopy.org/webclient/?show=project-801).\n",
    "\n",
    "It assumes that ilastik project is linked to the dataset.\n",
    "The 5D-numpy array is in the order expected by the ilastik project.\n",
    "The order might need to be adjusted depending on the ilastik project."
   ]
  },
  {
   "cell_type": "markdown",
   "metadata": {},
   "source": [
    "### Insert required packages"
   ]
  },
  {
   "cell_type": "code",
   "execution_count": 1,
   "metadata": {},
   "outputs": [],
   "source": [
    "import numpy\n",
    "import os\n",
    "import itertools\n",
    "\n",
    "import tempfile\n",
    "import omero.clients\n",
    "from omero.gateway import BlitzGateway\n",
    "from getpass import getpass\n",
    "\n",
    "from ilastik import app\n",
    "from ilastik.applets.dataSelection.opDataSelection import PreloadedArrayDatasetInfo\n",
    "import vigra\n",
    "import ipywidgets as widgets"
   ]
  },
  {
   "cell_type": "markdown",
   "metadata": {},
   "source": [
    "### Create a connection to an OMERO server"
   ]
  },
  {
   "cell_type": "code",
   "execution_count": 2,
   "metadata": {},
   "outputs": [
    {
     "name": "stdout",
     "output_type": "stream",
     "text": [
      "Username: trainer-1\n",
      "OMERO Password: ········\n",
      "True\n"
     ]
    }
   ],
   "source": [
    "HOST = 'wss://workshop.openmicroscopy.org/omero-ws'\n",
    "conn = BlitzGateway(input(\"Username: \"),\n",
    "                    getpass(\"OMERO Password: \"),\n",
    "                    host=HOST, secure=True)\n",
    "print(conn.connect())\n",
    "conn.c.enableKeepAlive(60)"
   ]
  },
  {
   "cell_type": "markdown",
   "metadata": {},
   "source": [
    "### Enter the dataset ID"
   ]
  },
  {
   "cell_type": "code",
   "execution_count": 3,
   "metadata": {},
   "outputs": [],
   "source": [
    "dataset_id = 6210"
   ]
  },
  {
   "cell_type": "markdown",
   "metadata": {},
   "source": [
    "### Load the ilastik projects linked to the dataset"
   ]
  },
  {
   "cell_type": "code",
   "execution_count": 4,
   "metadata": {},
   "outputs": [],
   "source": [
    "def load_model(dataset_id):\n",
    "    path = tempfile.mkdtemp()\n",
    "    if not os.path.exists(path):\n",
    "        os.makedirs(path)\n",
    "    dataset = conn.getObject(\"Dataset\", dataset_id)\n",
    "    # Go through all the annotations on the Dataset\n",
    "    options = []\n",
    "    for ann in dataset.listAnnotations():\n",
    "        if isinstance(ann, omero.gateway.FileAnnotationWrapper):\n",
    "            name = ann.getFile().getName()\n",
    "            # Select the ilatisk project TODO: use namespace\n",
    "            if name.endswith(\".ilp\"):\n",
    "                file_path = os.path.join(path, name)\n",
    "                options.append((name, file_path))\n",
    "                with open(str(file_path), 'wb') as f:\n",
    "                    for chunk in ann.getFileInChunks():\n",
    "                        f.write(chunk)\n",
    "    return widgets.Dropdown(options=options, disabled=False)"
   ]
  },
  {
   "cell_type": "markdown",
   "metadata": {},
   "source": [
    "### Helper function: load an Image as 5D-numpy array: order TZYXC"
   ]
  },
  {
   "cell_type": "code",
   "execution_count": 5,
   "metadata": {},
   "outputs": [],
   "source": [
    "def load_numpy_array(image):\n",
    "    pixels = image.getPrimaryPixels()\n",
    "    size_z = image.getSizeZ()\n",
    "    size_c = image.getSizeC()\n",
    "    size_t = image.getSizeT()\n",
    "    size_y = image.getSizeY()\n",
    "    size_x = image.getSizeX()\n",
    "    z, t, c = 0, 0, 0  # first plane of the image\n",
    "\n",
    "    zct_list = []\n",
    "    for t in range(size_t):\n",
    "        for c in range(size_c):  # all channels\n",
    "            for z in range(size_z):  # get the Z-stack\n",
    "                zct_list.append((z, c, t))\n",
    "\n",
    "    values = []\n",
    "    # Load all the planes as YX numpy array\n",
    "    planes = pixels.getPlanes(zct_list)\n",
    "    all_planes = numpy.stack(list(planes))\n",
    "    shape = (size_t, size_z, size_y, size_x, size_c)\n",
    "    return numpy.reshape(all_planes, newshape=shape)\n",
    "\n"
   ]
  },
  {
   "cell_type": "code",
   "execution_count": 6,
   "metadata": {},
   "outputs": [],
   "source": [
    "def plane_gen():\n",
    "    \"\"\"\n",
    "    Set up a generator of 2D numpy arrays.\n",
    "\n",
    "    The createImage method below expects planes in the order specified here\n",
    "    (for z.. for c.. for t..)\n",
    "\n",
    "    \"\"\"\n",
    "\n",
    "    size_z = data.shape[0]-1\n",
    "    for z in range(data.shape[0]):  # all Z sections data.shape[0]\n",
    "        print('z: %s/%s' % (z, size_z))\n",
    "        for c in range(data.shape[1]):  # all channels\n",
    "            for t in range(data.shape[2]):  # all time-points\n",
    "                yield data[z][c][t]"
   ]
  },
  {
   "cell_type": "markdown",
   "metadata": {},
   "source": [
    "### Select the ilastik project to use."
   ]
  },
  {
   "cell_type": "code",
   "execution_count": 7,
   "metadata": {},
   "outputs": [
    {
     "data": {
      "application/vnd.jupyter.widget-view+json": {
       "model_id": "a6895e4aefce4adbb5a3b58095b9fc34",
       "version_major": 2,
       "version_minor": 0
      },
      "text/plain": [
       "Dropdown(options=(('ilastik14-Nov-2024.ilp', '/var/folders/74/13j9m56j0l7cxdczjrykzqt40000gn/T/tmp5yg5s00e/ila…"
      ]
     },
     "metadata": {},
     "output_type": "display_data"
    }
   ],
   "source": [
    "model_selection = load_model(dataset_id)\n",
    "display(model_selection)"
   ]
  },
  {
   "cell_type": "markdown",
   "metadata": {},
   "source": [
    "### Load each image as an 5D-numpy array and analyze.\n",
    "Save the probabilities as an OMERO image"
   ]
  },
  {
   "cell_type": "code",
   "execution_count": 8,
   "metadata": {},
   "outputs": [
    {
     "name": "stdout",
     "output_type": "stream",
     "text": [
      "INFO ilastik.app: Using tiktorch executable: ['/Users/jmarie/opt/anaconda3/envs/imaging_course_ilastik/bin/python', '-m', 'tiktorch.server']\n"
     ]
    },
    {
     "name": "stderr",
     "output_type": "stream",
     "text": [
      "INFO:ilastik.app:Using tiktorch executable: ['/Users/jmarie/opt/anaconda3/envs/imaging_course_ilastik/bin/python', '-m', 'tiktorch.server']\n"
     ]
    },
    {
     "name": "stdout",
     "output_type": "stream",
     "text": [
      "INFO ilastik.app: config file location: <none>\n"
     ]
    },
    {
     "name": "stderr",
     "output_type": "stream",
     "text": [
      "INFO:ilastik.app:config file location: <none>\n"
     ]
    },
    {
     "name": "stdout",
     "output_type": "stream",
     "text": [
      "INFO ilastik.app: Starting ilastik from /Users/jmarie/opt/anaconda3/envs/imaging_course_ilastik/lib/python3.9\n"
     ]
    },
    {
     "name": "stderr",
     "output_type": "stream",
     "text": [
      "INFO:ilastik.app:Starting ilastik from /Users/jmarie/opt/anaconda3/envs/imaging_course_ilastik/lib/python3.9\n"
     ]
    },
    {
     "name": "stdout",
     "output_type": "stream",
     "text": [
      "Starting ilastik from /Users/jmarie/opt/anaconda3/envs/imaging_course_ilastik/lib/python3.9\n",
      "INFO ilastik.app: Resetting lazyflow thread pool with 2 threads.\n"
     ]
    },
    {
     "name": "stderr",
     "output_type": "stream",
     "text": [
      "INFO:ilastik.app:Resetting lazyflow thread pool with 2 threads.\n"
     ]
    },
    {
     "name": "stdout",
     "output_type": "stream",
     "text": [
      "INFO ilastik.app: Configuring lazyflow RAM limit to 2.0GiB\n"
     ]
    },
    {
     "name": "stderr",
     "output_type": "stream",
     "text": [
      "INFO:ilastik.app:Configuring lazyflow RAM limit to 2.0GiB\n"
     ]
    },
    {
     "name": "stdout",
     "output_type": "stream",
     "text": [
      "INFO lazyflow.utility.memory: Available memory set to 2.0GiB\n"
     ]
    },
    {
     "name": "stderr",
     "output_type": "stream",
     "text": [
      "INFO:lazyflow.utility.memory:Available memory set to 2.0GiB\n",
      "WARNING 2024-10-30 13:58:36,226 opConservationTracking 86849 8672138752 Could not find any ILP solver\n",
      "WARNING:ilastik.applets.tracking.conservation.opConservationTracking:Could not find any ILP solver\n",
      "WARNING 2024-10-30 13:58:36,240 opStructuredTracking 86849 8672138752 Could not find any ILP solver\n",
      "WARNING:ilastik.applets.tracking.structured.opStructuredTracking:Could not find any ILP solver\n",
      "WARNING 2024-10-30 13:58:36,242 structuredTrackingWorkflow 86849 8672138752 Could not find any learning solver. Tracking will use flow-based solver (DPCT). Learning for tracking will be disabled!\n",
      "WARNING:ilastik.workflows.tracking.structured.structuredTrackingWorkflow:Could not find any learning solver. Tracking will use flow-based solver (DPCT). Learning for tracking will be disabled!\n"
     ]
    },
    {
     "name": "stdout",
     "output_type": "stream",
     "text": [
      "INFO ilastik.shell.projectManager: Opening Project: /var/folders/74/13j9m56j0l7cxdczjrykzqt40000gn/T/tmp5yg5s00e/ilastik14-Nov-2024.ilp\n"
     ]
    },
    {
     "name": "stderr",
     "output_type": "stream",
     "text": [
      "INFO:ilastik.shell.projectManager:Opening Project: /var/folders/74/13j9m56j0l7cxdczjrykzqt40000gn/T/tmp5yg5s00e/ilastik14-Nov-2024.ilp\n"
     ]
    },
    {
     "name": "stdout",
     "output_type": "stream",
     "text": [
      "INFO omero.gateway: Registered ecc9b5b9-ffc8-4bd6-9889-c968676ae505/1ae5a00c-9c67-4929-9325-8c40d41d5c0comero.api.RawPixelsStore -t -e 1.1:tcp -h 172.17.0.1 -p 46687 -t 60000:tcp -h 134.36.5.185 -p 46687 -t 60000\n"
     ]
    },
    {
     "name": "stderr",
     "output_type": "stream",
     "text": [
      "INFO:omero.gateway:Registered ecc9b5b9-ffc8-4bd6-9889-c968676ae505/1ae5a00c-9c67-4929-9325-8c40d41d5c0comero.api.RawPixelsStore -t -e 1.1:tcp -h 172.17.0.1 -p 46687 -t 60000:tcp -h 134.36.5.185 -p 46687 -t 60000\n"
     ]
    },
    {
     "name": "stdout",
     "output_type": "stream",
     "text": [
      "INFO omero.gateway: Unregistered ecc9b5b9-ffc8-4bd6-9889-c968676ae505/1ae5a00c-9c67-4929-9325-8c40d41d5c0comero.api.RawPixelsStore -t -e 1.1:tcp -h 172.17.0.1 -p 46687 -t 60000:tcp -h 134.36.5.185 -p 46687 -t 60000\n"
     ]
    },
    {
     "name": "stderr",
     "output_type": "stream",
     "text": [
      "INFO:omero.gateway:Unregistered ecc9b5b9-ffc8-4bd6-9889-c968676ae505/1ae5a00c-9c67-4929-9325-8c40d41d5c0comero.api.RawPixelsStore -t -e 1.1:tcp -h 172.17.0.1 -p 46687 -t 60000:tcp -h 134.36.5.185 -p 46687 -t 60000\n"
     ]
    },
    {
     "name": "stdout",
     "output_type": "stream",
     "text": [
      "running ilastik using /var/folders/74/13j9m56j0l7cxdczjrykzqt40000gn/T/tmp5yg5s00e/ilastik14-Nov-2024.ilp and B1_C1.tif\n",
      "DEBUG lazyflow.operators.classifierOperators.OpBaseClassifierPredict: classifier changed, setting dirty\n"
     ]
    },
    {
     "name": "stderr",
     "output_type": "stream",
     "text": [
      "DEBUG:lazyflow.operators.classifierOperators.OpBaseClassifierPredict:classifier changed, setting dirty\n"
     ]
    },
    {
     "name": "stdout",
     "output_type": "stream",
     "text": [
      "DEBUG lazyflow.operators.classifierOperators.OpBaseClassifierPredict: classifier changed, setting dirty\n"
     ]
    },
    {
     "name": "stderr",
     "output_type": "stream",
     "text": [
      "DEBUG:lazyflow.operators.classifierOperators.OpBaseClassifierPredict:classifier changed, setting dirty\n"
     ]
    },
    {
     "name": "stdout",
     "output_type": "stream",
     "text": [
      "DEBUG lazyflow.operators.classifierOperators.OpBaseClassifierPredict: classifier changed, setting dirty\n"
     ]
    },
    {
     "name": "stderr",
     "output_type": "stream",
     "text": [
      "DEBUG:lazyflow.operators.classifierOperators.OpBaseClassifierPredict:classifier changed, setting dirty\n"
     ]
    },
    {
     "name": "stdout",
     "output_type": "stream",
     "text": [
      "DEBUG lazyflow.operators.classifierOperators.OpBaseClassifierPredict: classifier changed, setting dirty\n"
     ]
    },
    {
     "name": "stderr",
     "output_type": "stream",
     "text": [
      "DEBUG:lazyflow.operators.classifierOperators.OpBaseClassifierPredict:classifier changed, setting dirty\n"
     ]
    },
    {
     "name": "stdout",
     "output_type": "stream",
     "text": [
      "INFO ilastik.applets.batchProcessing.batchProcessingApplet: Exporting to in-memory array.\n"
     ]
    },
    {
     "name": "stderr",
     "output_type": "stream",
     "text": [
      "INFO:ilastik.applets.batchProcessing.batchProcessingApplet:Exporting to in-memory array.\n"
     ]
    },
    {
     "name": "stdout",
     "output_type": "stream",
     "text": [
      "INFO lazyflow.utility.bigRequestStreamer: Estimated RAM usage per pixel is 120.0B * safety factor (2.0)\n"
     ]
    },
    {
     "name": "stderr",
     "output_type": "stream",
     "text": [
      "INFO:lazyflow.utility.bigRequestStreamer:Estimated RAM usage per pixel is 120.0B * safety factor (2.0)\n"
     ]
    },
    {
     "name": "stdout",
     "output_type": "stream",
     "text": [
      "INFO lazyflow.utility.bigRequestStreamer: determining blockshape assuming available_ram is 1.5GiB, split between 2 threads\n"
     ]
    },
    {
     "name": "stderr",
     "output_type": "stream",
     "text": [
      "INFO:lazyflow.utility.bigRequestStreamer:determining blockshape assuming available_ram is 1.5GiB, split between 2 threads\n"
     ]
    },
    {
     "name": "stdout",
     "output_type": "stream",
     "text": [
      "INFO lazyflow.utility.bigRequestStreamer: Chose blockshape: (1, 149, 148, 148, 2)\n"
     ]
    },
    {
     "name": "stderr",
     "output_type": "stream",
     "text": [
      "INFO:lazyflow.utility.bigRequestStreamer:Chose blockshape: (1, 149, 148, 148, 2)\n"
     ]
    },
    {
     "name": "stdout",
     "output_type": "stream",
     "text": [
      "INFO lazyflow.utility.bigRequestStreamer: Estimated RAM usage per block is 747.0MiB\n"
     ]
    },
    {
     "name": "stderr",
     "output_type": "stream",
     "text": [
      "INFO:lazyflow.utility.bigRequestStreamer:Estimated RAM usage per block is 747.0MiB\n"
     ]
    },
    {
     "name": "stdout",
     "output_type": "stream",
     "text": [
      "DEBUG lazyflow.operators.classifierOperators: Features took 4.441693 seconds. Prediction took 3.420297 seconds. Subregion: start '[0, 0, 0, 0]' stop '[149, 148, 148, 2]'\n"
     ]
    },
    {
     "name": "stderr",
     "output_type": "stream",
     "text": [
      "DEBUG:lazyflow.operators.classifierOperators:Features took 4.441693 seconds. Prediction took 3.420297 seconds. Subregion: start '[0, 0, 0, 0]' stop '[149, 148, 148, 2]'\n"
     ]
    },
    {
     "name": "stdout",
     "output_type": "stream",
     "text": [
      "DEBUG lazyflow.operators.classifierOperators: Features took 4.443311 seconds. Prediction took 4.557446 seconds. Subregion: start '[0, 0, 148, 0]' stop '[149, 148, 271, 2]'\n"
     ]
    },
    {
     "name": "stderr",
     "output_type": "stream",
     "text": [
      "DEBUG:lazyflow.operators.classifierOperators:Features took 4.443311 seconds. Prediction took 4.557446 seconds. Subregion: start '[0, 0, 148, 0]' stop '[149, 148, 271, 2]'\n"
     ]
    },
    {
     "name": "stdout",
     "output_type": "stream",
     "text": [
      "DEBUG lazyflow.operators.classifierOperators: Features took 2.978772 seconds. Prediction took 3.165576 seconds. Subregion: start '[0, 148, 0, 0]' stop '[149, 275, 148, 2]'\n"
     ]
    },
    {
     "name": "stderr",
     "output_type": "stream",
     "text": [
      "DEBUG:lazyflow.operators.classifierOperators:Features took 2.978772 seconds. Prediction took 3.165576 seconds. Subregion: start '[0, 148, 0, 0]' stop '[149, 275, 148, 2]'\n"
     ]
    },
    {
     "name": "stdout",
     "output_type": "stream",
     "text": [
      "DEBUG lazyflow.operators.classifierOperators: Features took 4.11637 seconds. Prediction took 2.830324 seconds. Subregion: start '[0, 148, 148, 0]' stop '[149, 275, 271, 2]'\n"
     ]
    },
    {
     "name": "stderr",
     "output_type": "stream",
     "text": [
      "DEBUG:lazyflow.operators.classifierOperators:Features took 4.11637 seconds. Prediction took 2.830324 seconds. Subregion: start '[0, 148, 148, 0]' stop '[149, 275, 271, 2]'\n"
     ]
    },
    {
     "name": "stdout",
     "output_type": "stream",
     "text": [
      "DEBUG lazyflow.operators.classifierOperators: Features took 2.7260299999999997 seconds. Prediction took 2.226271 seconds. Subregion: start '[149, 0, 0, 0]' stop '[236, 148, 148, 2]'\n"
     ]
    },
    {
     "name": "stderr",
     "output_type": "stream",
     "text": [
      "DEBUG:lazyflow.operators.classifierOperators:Features took 2.7260299999999997 seconds. Prediction took 2.226271 seconds. Subregion: start '[149, 0, 0, 0]' stop '[236, 148, 148, 2]'\n"
     ]
    },
    {
     "name": "stdout",
     "output_type": "stream",
     "text": [
      "DEBUG lazyflow.operators.classifierOperators: Features took 2.674397 seconds. Prediction took 1.993983 seconds. Subregion: start '[149, 0, 148, 0]' stop '[236, 148, 271, 2]'\n"
     ]
    },
    {
     "name": "stderr",
     "output_type": "stream",
     "text": [
      "DEBUG:lazyflow.operators.classifierOperators:Features took 2.674397 seconds. Prediction took 1.993983 seconds. Subregion: start '[149, 0, 148, 0]' stop '[236, 148, 271, 2]'\n"
     ]
    },
    {
     "name": "stdout",
     "output_type": "stream",
     "text": [
      "DEBUG lazyflow.operators.classifierOperators: Features took 2.421426 seconds. Prediction took 1.720752 seconds. Subregion: start '[149, 148, 0, 0]' stop '[236, 275, 148, 2]'\n"
     ]
    },
    {
     "name": "stderr",
     "output_type": "stream",
     "text": [
      "DEBUG:lazyflow.operators.classifierOperators:Features took 2.421426 seconds. Prediction took 1.720752 seconds. Subregion: start '[149, 148, 0, 0]' stop '[236, 275, 148, 2]'\n"
     ]
    },
    {
     "name": "stdout",
     "output_type": "stream",
     "text": [
      "DEBUG lazyflow.operators.classifierOperators: Features took 2.39067 seconds. Prediction took 1.292317 seconds. Subregion: start '[149, 148, 148, 0]' stop '[236, 275, 271, 2]'\n"
     ]
    },
    {
     "name": "stderr",
     "output_type": "stream",
     "text": [
      "DEBUG:lazyflow.operators.classifierOperators:Features took 2.39067 seconds. Prediction took 1.292317 seconds. Subregion: start '[149, 148, 148, 0]' stop '[236, 275, 271, 2]'\n"
     ]
    },
    {
     "name": "stdout",
     "output_type": "stream",
     "text": [
      "Saving Probabilities as an Image in OMERO\n",
      "done\n"
     ]
    }
   ],
   "source": [
    "# Load the model linked to the dataset\n",
    "model_file = model_selection.value\n",
    "\n",
    "images = conn.getObjects('Image', opts={'dataset': dataset_id})\n",
    "\n",
    "# Create a new dataset where to upload the generated images\n",
    "dataset_obj = omero.model.DatasetI()\n",
    "v = \"ilastik_probabilities_from_dataset_%s\" % dataset_id\n",
    "dataset_obj.setName(omero.rtypes.rstring(v))\n",
    "v = \"ilatisk results probabilities from Dataset:%s\" % dataset_id\n",
    "dataset_obj.setDescription(omero.rtypes.rstring(v))\n",
    "dataset_obj = conn.getUpdateService().saveAndReturnObject(dataset_obj)\n",
    "\n",
    "# Prepare ilastik\n",
    "os.environ[\"LAZYFLOW_THREADS\"] = \"2\"\n",
    "os.environ[\"LAZYFLOW_TOTAL_RAM_MB\"] = \"2000\"\n",
    "args = app.parse_args([])\n",
    "args.headless = True\n",
    "args.project = model_file\n",
    "shell = app.main(args)\n",
    "\n",
    "# Analyse 2 images to speed up the process\n",
    "images = itertools.islice(images, 2) \n",
    "for image in images:\n",
    "    filename, file_extension = os.path.splitext(image.getName())\n",
    "    input_data = load_numpy_array(image)\n",
    "\n",
    "    # run ilastik headless\n",
    "    print('running ilastik using %s and %s' % (model_file, image.getName()))\n",
    "    role_data_dict = [ {\"Raw Data\": PreloadedArrayDatasetInfo(preloaded_array=input_data, axistags=vigra.defaultAxistags(\"tzyxc\"))}]\n",
    "\n",
    "    predictions = shell.workflow.batchProcessingApplet.run_export(role_data_dict, export_to_array=True)\n",
    "    # Save the probabilities file to the image\n",
    "    print(\"Saving Probabilities as an Image in OMERO\")\n",
    "    name = filename + \"_Probabilities\"\n",
    "    desc = \"ilastik probabilities from Image:%s\" % image.getId()\n",
    "    for data in predictions:\n",
    "        # Re-organise array from tzyxc to zctyx order expected by OMERO\n",
    "        data = data.swapaxes(0, 1).swapaxes(3, 4).swapaxes(2, 3).swapaxes(1, 2)\n",
    "        conn.createImageFromNumpySeq(plane_gen(), name,\n",
    "                                     data.shape[0], data.shape[1],\n",
    "                                     data.shape[2], description=desc,\n",
    "                                     dataset=dataset_obj)\n",
    "\n",
    "print(\"done\")"
   ]
  },
  {
   "cell_type": "markdown",
   "metadata": {},
   "source": [
    "### Close the connection to the OMERO server"
   ]
  },
  {
   "cell_type": "code",
   "execution_count": 10,
   "metadata": {},
   "outputs": [],
   "source": [
    "conn.close()"
   ]
  },
  {
   "cell_type": "markdown",
   "metadata": {
    "collapsed": true
   },
   "source": [
    "### License (BSD 2-Clause)\n",
    "Copyright (C) 2019-2024 University of Dundee. All Rights Reserved.\n",
    "\n",
    "Redistribution and use in source and binary forms, with or without modification, are permitted provided that the following conditions are met:\n",
    "\n",
    "Redistributions of source code must retain the above copyright notice, this list of conditions and the following disclaimer.\n",
    "Redistributions in binary form must reproduce the above copyright notice, this list of conditions and the following disclaimer in the documentation and/or other materials provided with the distribution.\n",
    "THIS SOFTWARE IS PROVIDED BY THE COPYRIGHT HOLDERS AND CONTRIBUTORS \"AS IS\" AND ANY EXPRESS OR IMPLIED WARRANTIES, INCLUDING, BUT NOT LIMITED TO, THE IMPLIED WARRANTIES OF MERCHANTABILITY AND FITNESS FOR A PARTICULAR PURPOSE ARE DISCLAIMED. IN NO EVENT SHALL THE COPYRIGHT OWNER OR CONTRIBUTORS BE LIABLE FOR ANY DIRECT, INDIRECT, INCIDENTAL, SPECIAL, EXEMPLARY, OR CONSEQUENTIAL DAMAGES (INCLUDING, BUT NOT LIMITED TO, PROCUREMENT OF SUBSTITUTE GOODS OR SERVICES; LOSS OF USE, DATA, OR PROFITS; OR BUSINESS INTERRUPTION) HOWEVER CAUSED AND ON ANY THEORY OF LIABILITY, WHETHER IN CONTRACT, STRICT LIABILITY, OR TORT (INCLUDING NEGLIGENCE OR OTHERWISE) ARISING IN ANY WAY OUT OF THE USE OF THIS SOFTWARE, EVEN IF ADVISED OF THE POSSIBILITY OF SUCH DAMAGE."
   ]
  }
 ],
 "metadata": {
  "kernelspec": {
   "display_name": "imaging_course_ilastik",
   "language": "python",
   "name": "imaging_course_ilastik"
  },
  "language_info": {
   "codemirror_mode": {
    "name": "ipython",
    "version": 3
   },
   "file_extension": ".py",
   "mimetype": "text/x-python",
   "name": "python",
   "nbconvert_exporter": "python",
   "pygments_lexer": "ipython3",
   "version": "3.9.15"
  },
  "toc": {
   "base_numbering": 1,
   "nav_menu": {},
   "number_sections": false,
   "sideBar": false,
   "skip_h1_title": false,
   "title_cell": "Table of Contents",
   "title_sidebar": "Contents",
   "toc_cell": false,
   "toc_position": {},
   "toc_section_display": false,
   "toc_window_display": false
  }
 },
 "nbformat": 4,
 "nbformat_minor": 2
}
